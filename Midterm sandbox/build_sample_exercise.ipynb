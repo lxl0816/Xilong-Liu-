{
 "cells": [
  {
   "cell_type": "markdown",
   "id": "74af7d26-85de-44f3-83ac-e98340ac2d0f",
   "metadata": {
    "id": "74af7d26-85de-44f3-83ac-e98340ac2d0f"
   },
   "source": [
    "## First\n",
    "\n",
    "- Copy `NEAR_regex.py` into the same folder as this file. [It's here](https://ledatascifi.github.io/ledatascifi-2023/content/04/02d_RegexApplication.html#demo) (click the \"+\") or in the community codebook. You should name the file `NEAR_regex.py` and not `NEAR_regex.ipynb`.\n",
    "- Make a `.gitignore` file in this folder with  `**10k_files/*` in it.\n",
    "- Copy [this file](https://github.com/donbowen/Class-Notes-1045/raw/main/Midterm%20sandbox/10k_files.zip) into the `10k_files/` folder here.\n",
    "- Copy the things in the assignment's input folder in to the inputs folder here.\n",
    "- Optional: You can install `tqdm` (If you don't, then remove it from the code below.)\n"
   ]
  },
  {
   "cell_type": "code",
   "execution_count": 58,
   "id": "gh2oRS2tb3Yd",
   "metadata": {
    "colab": {
     "base_uri": "https://localhost:8080/"
    },
    "id": "gh2oRS2tb3Yd",
    "outputId": "c8f75c7b-5442-437b-fa3e-496d7f71bdee"
   },
   "outputs": [
    {
     "name": "stdout",
     "output_type": "stream",
     "text": [
      "Cloning into 'Class-Notes-1045'...\n",
      "remote: Enumerating objects: 144, done.\u001b[K\n",
      "remote: Counting objects: 100% (144/144), done.\u001b[K\n",
      "remote: Compressing objects: 100% (105/105), done.\u001b[K\n",
      "remote: Total 144 (delta 70), reused 97 (delta 30), pack-reused 0\u001b[K\n",
      "Receiving objects: 100% (144/144), 9.36 MiB | 13.11 MiB/s, done.\n",
      "Resolving deltas: 100% (70/70), done.\n",
      "mv: cannot move '/content/Class-Notes-1045/Midterm sandbox/inputs' to './inputs': Directory not empty\n"
     ]
    }
   ],
   "source": [
    "!git clone https://github.com/donbowen/Class-Notes-1045\n",
    "!mv /content/Class-Notes-1045/'Midterm sandbox'/* .\n",
    "!rm -rf /content/Class-Notes-1045"
   ]
  },
  {
   "cell_type": "code",
   "execution_count": 59,
   "id": "XJhIjM9BcgaC",
   "metadata": {
    "id": "XJhIjM9BcgaC"
   },
   "outputs": [],
   "source": [
    "import os\n",
    "if not os.path.exists('/content/10k_files'):\n",
    "    os.mkdir('/content/10k_files')\n",
    "!mv /content/10k_files.zip /content/10k_files"
   ]
  },
  {
   "cell_type": "code",
   "execution_count": 60,
   "id": "908e0c86-ca84-47f8-95e7-e34c024ed2f0",
   "metadata": {
    "id": "908e0c86-ca84-47f8-95e7-e34c024ed2f0"
   },
   "outputs": [],
   "source": [
    "import fnmatch\n",
    "import glob\n",
    "import os\n",
    "import re\n",
    "from time import sleep\n",
    "from zipfile import ZipFile\n",
    "\n",
    "import numpy as np\n",
    "import pandas as pd\n",
    "from bs4 import BeautifulSoup\n",
    "from near_regex import NEAR_regex  # copy this file into the asgn folder\n",
    "from tqdm import tqdm  # progress bar on loops\n",
    "\n",
    "# if you have tqdm issues, run this in terminal or with ! trick\n",
    "# jupyter nbextension enable --py widgetsnbextension\n",
    "# jupyter labextension install @jupyter-widgets/jupyterlab-manager\n",
    "#\n",
    "# if that fails, you can disable it\n",
    "\n",
    "os.makedirs(\"output\", exist_ok=True)"
   ]
  },
  {
   "cell_type": "markdown",
   "id": "3e9fec2c-a2bd-4513-9430-33fd2401cdec",
   "metadata": {
    "id": "3e9fec2c-a2bd-4513-9430-33fd2401cdec"
   },
   "source": [
    "## Load sentiment dictionaries"
   ]
  },
  {
   "cell_type": "code",
   "execution_count": 61,
   "id": "fd9c226f-b543-4c03-a3d6-0dc1c77c3db4",
   "metadata": {
    "id": "fd9c226f-b543-4c03-a3d6-0dc1c77c3db4"
   },
   "outputs": [],
   "source": [
    "# Q1 - load the ML negative words into a list called BHR_negative\n",
    "# BHR is the author names on that paper\n",
    "# \"ML\" might be a better name, but having \"LM\" and \"ML\" in bound\n",
    "# to cause transcription errors\n",
    "\n",
    "BHR_negative = pd.read_csv('inputs/ML_negative_unigram.txt',\n",
    "            names=['word'])['word'].to_list()   "
   ]
  },
  {
   "cell_type": "code",
   "execution_count": 62,
   "id": "c4ada34b-0a53-4101-ba01-c7701948300a",
   "metadata": {
    "id": "c4ada34b-0a53-4101-ba01-c7701948300a"
   },
   "outputs": [],
   "source": [
    "# Q2 - load the ML positive words into a list called BHR_positive\n",
    "\n",
    "# \"r\" means we are opening the file in \"read\" mode ... \"w\"rite mode means you'll write the file \n",
    "with open('inputs/ML_positive_unigram.txt', 'r') as file:\n",
    "    BHR_positive = [line.strip() for line in file]\n"
   ]
  },
  {
   "cell_type": "code",
   "execution_count": 63,
   "id": "3f17c149-e025-46e2-9782-5009c9154cd6",
   "metadata": {
    "id": "3f17c149-e025-46e2-9782-5009c9154cd6"
   },
   "outputs": [],
   "source": [
    "# Q3 - load the LM negative words into a list called LM_positive\n",
    "\n",
    "LM = pd.read_csv('inputs/LM_MasterDictionary_1993-2021.csv')\n",
    "LM_negative = LM.query('Negative > 0')['Word'].to_list()\n",
    "\n",
    "# ABCD > look at the data... what is going on with the values?\n",
    "# LM.describe() > there are negative numbers? and 2009-2014?\n",
    "# look for documentation! readme in the inputs folder points to the docs and explains the numbers\n"
   ]
  },
  {
   "cell_type": "markdown",
   "id": "3aac2f3f-35be-4142-8d0d-1706c214861e",
   "metadata": {
    "id": "3aac2f3f-35be-4142-8d0d-1706c214861e"
   },
   "source": [
    "Look at the resulting lists... not identical structure..."
   ]
  },
  {
   "cell_type": "code",
   "execution_count": 64,
   "id": "34694990-4f96-441f-a90e-8a770b8c47d4",
   "metadata": {
    "colab": {
     "base_uri": "https://localhost:8080/"
    },
    "id": "34694990-4f96-441f-a90e-8a770b8c47d4",
    "outputId": "1a10329d-4330-446d-978d-4f744f7ef974"
   },
   "outputs": [
    {
     "data": {
      "text/plain": [
       "['ABANDON',\n",
       " 'ABANDONED',\n",
       " 'ABANDONING',\n",
       " 'ABANDONMENT',\n",
       " 'ABANDONMENTS',\n",
       " 'ABANDONS',\n",
       " 'ABDICATED',\n",
       " 'ABDICATES',\n",
       " 'ABDICATING',\n",
       " 'ABDICATION',\n",
       " 'ABDICATIONS',\n",
       " 'ABERRANT',\n",
       " 'ABERRATION',\n",
       " 'ABERRATIONAL',\n",
       " 'ABERRATIONS',\n",
       " 'ABETTING',\n",
       " 'ABNORMAL',\n",
       " 'ABNORMALITIES',\n",
       " 'ABNORMALITY',\n",
       " 'ABNORMALLY']"
      ]
     },
     "execution_count": 64,
     "metadata": {},
     "output_type": "execute_result"
    }
   ],
   "source": [
    "BHR_positive[:20]\n",
    "LM_negative[:20]"
   ]
  },
  {
   "cell_type": "code",
   "execution_count": 65,
   "id": "b8a3bfea-9769-4713-9243-d47f546881e5",
   "metadata": {
    "colab": {
     "base_uri": "https://localhost:8080/"
    },
    "id": "b8a3bfea-9769-4713-9243-d47f546881e5",
    "outputId": "4c00fc11-69a7-4060-8ff1-576c1a41d34d"
   },
   "outputs": [
    {
     "data": {
      "text/plain": [
       "['ABLE',\n",
       " 'ABUNDANCE',\n",
       " 'ABUNDANT',\n",
       " 'ACCLAIMED',\n",
       " 'ACCOMPLISH',\n",
       " 'ACCOMPLISHED',\n",
       " 'ACCOMPLISHES',\n",
       " 'ACCOMPLISHING',\n",
       " 'ACCOMPLISHMENT',\n",
       " 'ACCOMPLISHMENTS',\n",
       " 'ACHIEVE',\n",
       " 'ACHIEVED',\n",
       " 'ACHIEVEMENT',\n",
       " 'ACHIEVEMENTS',\n",
       " 'ACHIEVES',\n",
       " 'ACHIEVING',\n",
       " 'ADEQUATELY',\n",
       " 'ADVANCEMENT',\n",
       " 'ADVANCEMENTS',\n",
       " 'ADVANCES']"
      ]
     },
     "execution_count": 65,
     "metadata": {},
     "output_type": "execute_result"
    }
   ],
   "source": [
    "# Q4 - load the LM positive words into a list called LM_positive\n",
    "LM_positive = LM.query('Positive > 0')['Word'].to_list()\n",
    "LM_positive[:20]"
   ]
  },
  {
   "cell_type": "markdown",
   "id": "11dcdd66-e646-4a64-bf26-a30092d1d970",
   "metadata": {
    "id": "11dcdd66-e646-4a64-bf26-a30092d1d970"
   },
   "source": [
    "## Looping over a dataframe and adding a variable"
   ]
  },
  {
   "cell_type": "code",
   "execution_count": 66,
   "id": "8894af2c-986e-4ec5-b642-96ca502f5b2e",
   "metadata": {
    "colab": {
     "base_uri": "https://localhost:8080/",
     "height": 197
    },
    "id": "8894af2c-986e-4ec5-b642-96ca502f5b2e",
    "outputId": "1707d79a-3639-431a-e417-d6ffa5c6cb44"
   },
   "outputs": [
    {
     "name": "stdout",
     "output_type": "stream",
     "text": [
      "Index: 0, URL: blahblah.com\n",
      "Index: 1, URL: wikisomething.com\n",
      "Index: 2, URL: wiki.com\n"
     ]
    },
    {
     "data": {
      "text/html": [
       "\n",
       "  <div id=\"df-2e99365e-5418-41d3-862f-7000fa83e352\">\n",
       "    <div class=\"colab-df-container\">\n",
       "      <div>\n",
       "<style scoped>\n",
       "    .dataframe tbody tr th:only-of-type {\n",
       "        vertical-align: middle;\n",
       "    }\n",
       "\n",
       "    .dataframe tbody tr th {\n",
       "        vertical-align: top;\n",
       "    }\n",
       "\n",
       "    .dataframe thead th {\n",
       "        text-align: right;\n",
       "    }\n",
       "</style>\n",
       "<table border=\"1\" class=\"dataframe\">\n",
       "  <thead>\n",
       "    <tr style=\"text-align: right;\">\n",
       "      <th></th>\n",
       "      <th>Security</th>\n",
       "      <th>URL</th>\n",
       "      <th>Sentiment</th>\n",
       "    </tr>\n",
       "  </thead>\n",
       "  <tbody>\n",
       "    <tr>\n",
       "      <th>0</th>\n",
       "      <td>3M</td>\n",
       "      <td>blahblah.com</td>\n",
       "      <td>6.0</td>\n",
       "    </tr>\n",
       "    <tr>\n",
       "      <th>1</th>\n",
       "      <td>TLSA</td>\n",
       "      <td>wikisomething.com</td>\n",
       "      <td>5.0</td>\n",
       "    </tr>\n",
       "    <tr>\n",
       "      <th>2</th>\n",
       "      <td>APPL</td>\n",
       "      <td>wiki.com</td>\n",
       "      <td>6.0</td>\n",
       "    </tr>\n",
       "  </tbody>\n",
       "</table>\n",
       "</div>\n",
       "      <button class=\"colab-df-convert\" onclick=\"convertToInteractive('df-2e99365e-5418-41d3-862f-7000fa83e352')\"\n",
       "              title=\"Convert this dataframe to an interactive table.\"\n",
       "              style=\"display:none;\">\n",
       "        \n",
       "  <svg xmlns=\"http://www.w3.org/2000/svg\" height=\"24px\"viewBox=\"0 0 24 24\"\n",
       "       width=\"24px\">\n",
       "    <path d=\"M0 0h24v24H0V0z\" fill=\"none\"/>\n",
       "    <path d=\"M18.56 5.44l.94 2.06.94-2.06 2.06-.94-2.06-.94-.94-2.06-.94 2.06-2.06.94zm-11 1L8.5 8.5l.94-2.06 2.06-.94-2.06-.94L8.5 2.5l-.94 2.06-2.06.94zm10 10l.94 2.06.94-2.06 2.06-.94-2.06-.94-.94-2.06-.94 2.06-2.06.94z\"/><path d=\"M17.41 7.96l-1.37-1.37c-.4-.4-.92-.59-1.43-.59-.52 0-1.04.2-1.43.59L10.3 9.45l-7.72 7.72c-.78.78-.78 2.05 0 2.83L4 21.41c.39.39.9.59 1.41.59.51 0 1.02-.2 1.41-.59l7.78-7.78 2.81-2.81c.8-.78.8-2.07 0-2.86zM5.41 20L4 18.59l7.72-7.72 1.47 1.35L5.41 20z\"/>\n",
       "  </svg>\n",
       "      </button>\n",
       "      \n",
       "  <style>\n",
       "    .colab-df-container {\n",
       "      display:flex;\n",
       "      flex-wrap:wrap;\n",
       "      gap: 12px;\n",
       "    }\n",
       "\n",
       "    .colab-df-convert {\n",
       "      background-color: #E8F0FE;\n",
       "      border: none;\n",
       "      border-radius: 50%;\n",
       "      cursor: pointer;\n",
       "      display: none;\n",
       "      fill: #1967D2;\n",
       "      height: 32px;\n",
       "      padding: 0 0 0 0;\n",
       "      width: 32px;\n",
       "    }\n",
       "\n",
       "    .colab-df-convert:hover {\n",
       "      background-color: #E2EBFA;\n",
       "      box-shadow: 0px 1px 2px rgba(60, 64, 67, 0.3), 0px 1px 3px 1px rgba(60, 64, 67, 0.15);\n",
       "      fill: #174EA6;\n",
       "    }\n",
       "\n",
       "    [theme=dark] .colab-df-convert {\n",
       "      background-color: #3B4455;\n",
       "      fill: #D2E3FC;\n",
       "    }\n",
       "\n",
       "    [theme=dark] .colab-df-convert:hover {\n",
       "      background-color: #434B5C;\n",
       "      box-shadow: 0px 1px 3px 1px rgba(0, 0, 0, 0.15);\n",
       "      filter: drop-shadow(0px 1px 2px rgba(0, 0, 0, 0.3));\n",
       "      fill: #FFFFFF;\n",
       "    }\n",
       "  </style>\n",
       "\n",
       "      <script>\n",
       "        const buttonEl =\n",
       "          document.querySelector('#df-2e99365e-5418-41d3-862f-7000fa83e352 button.colab-df-convert');\n",
       "        buttonEl.style.display =\n",
       "          google.colab.kernel.accessAllowed ? 'block' : 'none';\n",
       "\n",
       "        async function convertToInteractive(key) {\n",
       "          const element = document.querySelector('#df-2e99365e-5418-41d3-862f-7000fa83e352');\n",
       "          const dataTable =\n",
       "            await google.colab.kernel.invokeFunction('convertToInteractive',\n",
       "                                                     [key], {});\n",
       "          if (!dataTable) return;\n",
       "\n",
       "          const docLinkHtml = 'Like what you see? Visit the ' +\n",
       "            '<a target=\"_blank\" href=https://colab.research.google.com/notebooks/data_table.ipynb>data table notebook</a>'\n",
       "            + ' to learn more about interactive tables.';\n",
       "          element.innerHTML = '';\n",
       "          dataTable['output_type'] = 'display_data';\n",
       "          await google.colab.output.renderOutput(dataTable, element);\n",
       "          const docLink = document.createElement('div');\n",
       "          docLink.innerHTML = docLinkHtml;\n",
       "          element.appendChild(docLink);\n",
       "        }\n",
       "      </script>\n",
       "    </div>\n",
       "  </div>\n",
       "  "
      ],
      "text/plain": [
       "  Security                URL  Sentiment\n",
       "0       3M       blahblah.com        6.0\n",
       "1     TLSA  wikisomething.com        5.0\n",
       "2     APPL           wiki.com        6.0"
      ]
     },
     "execution_count": 66,
     "metadata": {},
     "output_type": "execute_result"
    }
   ],
   "source": [
    "import random\n",
    "\n",
    "# step 1 will load some database and prep it for the loopy parts\n",
    "# here, we will just use a toy dataset\n",
    "\n",
    "toy_database = pd.DataFrame({\"Security\":['3M','TLSA','APPL'],\n",
    "             \"URL\":['blahblah.com','wikisomething.com','wiki.com']})\n",
    "\n",
    "toy_database\n",
    "\n",
    "for index, row in toy_database.iterrows():\n",
    "    print(f\"Index: {index}, URL: {row['URL']}\")\n",
    "    #row can be used like row['var_name']\n",
    "    \n",
    "    sentiment_positive= random.randint(0,10)\n",
    "    toy_database.loc[index, 'Sentiment'] = sentiment_positive \n",
    "\n",
    "toy_database"
   ]
  },
  {
   "cell_type": "markdown",
   "id": "9f890f76-b14b-43af-bc30-945d8300d48e",
   "metadata": {
    "id": "9f890f76-b14b-43af-bc30-945d8300d48e"
   },
   "source": [
    "## Measure sentiment\n",
    "\n",
    "What fraction of the words in this \"document\" (sentence) are \"happy\" words?\n",
    "\n",
    "Answer: 2/13. Let's replicate that with code. \n",
    "\n",
    "First, count the length of the document.\n",
    "\n",
    "Then, count how many times each word is in the document."
   ]
  },
  {
   "cell_type": "code",
   "execution_count": 67,
   "id": "a57e4fb0-1b06-4406-9127-545cbd3ef723",
   "metadata": {
    "colab": {
     "base_uri": "https://localhost:8080/"
    },
    "id": "a57e4fb0-1b06-4406-9127-545cbd3ef723",
    "outputId": "1e288055-88ef-485f-b1de-af84ef02439f"
   },
   "outputs": [
    {
     "data": {
      "text/plain": [
       "13"
      ]
     },
     "execution_count": 67,
     "metadata": {},
     "output_type": "execute_result"
    }
   ],
   "source": [
    "happy_sentiment = ['happy','smile','hopeful']\n",
    "\n",
    "sentence = 'I am happy that you are here. I am all smiles. So hopeful!'\n",
    "\n",
    "# q0 count the number of \"words\" (the doc length)\n",
    "\n",
    "len(sentence.split())\n",
    "# len(re.findall(' ',sentence))+1 # works only if every word in doc is separated by exactly 1 space"
   ]
  },
  {
   "cell_type": "markdown",
   "id": "0d64bd1b-d09e-46cc-a4c6-09151217a530",
   "metadata": {
    "id": "0d64bd1b-d09e-46cc-a4c6-09151217a530"
   },
   "source": [
    "What we did:\n",
    "```python \n",
    "# just type the words\n",
    "len(re.findall('happy',sentence)) # works but\n",
    "len(re.findall('smile',sentence)) # fails\n",
    "\n",
    "# look for words between word boundaries (\\b)\n",
    "# r before string is important!\n",
    "len(re.findall(r'\\bhappy\\b',sentence)) # works\n",
    "len(re.findall(r'\\bsmile\\b',sentence)) # works too\n",
    "```\n"
   ]
  },
  {
   "cell_type": "code",
   "execution_count": 68,
   "id": "b70054e4-4ef9-47d3-ae7d-aabff017a69a",
   "metadata": {
    "colab": {
     "base_uri": "https://localhost:8080/"
    },
    "id": "b70054e4-4ef9-47d3-ae7d-aabff017a69a",
    "outputId": "5866e08d-7bd9-46bc-a6c4-43e64003a9a4"
   },
   "outputs": [
    {
     "data": {
      "text/plain": [
       "1"
      ]
     },
     "execution_count": 68,
     "metadata": {},
     "output_type": "execute_result"
    }
   ],
   "source": [
    "# q1 count how many times \"happy\" is used in the doc\n",
    "# hint: https://ledatascifi.github.io/ledatascifi-2023/content/04/02b_regex.html\n",
    "\n",
    "len(re.findall(r'\\bhappy\\b',sentence))\n",
    "\n",
    "# r means \"raw\" string -- a backslash is a backslash, not the start of some special character"
   ]
  },
  {
   "cell_type": "code",
   "execution_count": 69,
   "id": "e3c4a25d-c2af-4d6f-aa45-d457492be2a1",
   "metadata": {
    "colab": {
     "base_uri": "https://localhost:8080/"
    },
    "id": "e3c4a25d-c2af-4d6f-aa45-d457492be2a1",
    "outputId": "fbadf121-79b5-4d76-dec2-bc43e69009cb"
   },
   "outputs": [
    {
     "data": {
      "text/plain": [
       "0"
      ]
     },
     "execution_count": 69,
     "metadata": {},
     "output_type": "execute_result"
    }
   ],
   "source": [
    "# q2 count how many times \"smile\" is used in the doc\n",
    "\n",
    "# fails! smile is not a word in the doc!\n",
    "len(re.findall(r'smile',sentence))\n",
    "len(re.findall(r'\\b(smile)\\b',sentence))\n",
    "\n"
   ]
  },
  {
   "cell_type": "code",
   "execution_count": 70,
   "id": "83ee35ab-cf0d-4c52-b294-70f5a8c1344a",
   "metadata": {
    "colab": {
     "base_uri": "https://localhost:8080/"
    },
    "id": "83ee35ab-cf0d-4c52-b294-70f5a8c1344a",
    "outputId": "fcd7fb74-328d-4cd4-a241-9dd16b4089d5"
   },
   "outputs": [
    {
     "data": {
      "text/plain": [
       "1"
      ]
     },
     "execution_count": 70,
     "metadata": {},
     "output_type": "execute_result"
    }
   ],
   "source": [
    "# q3 count how many times \"smile\" or \"happy\" is used in the doc\n",
    "# hint: similar to q2 answer... \n",
    "# the answer is somewhere this page: https://regexone.com/\n",
    "\n",
    "# () makes for groups of matching possibilities\n",
    "# | means \"or\"\n",
    "len(re.findall(r'\\b(happy|smile)\\b',sentence))\n"
   ]
  },
  {
   "cell_type": "code",
   "execution_count": 71,
   "id": "f66bc719-02be-4f12-8aed-e71b78f9a7d7",
   "metadata": {
    "colab": {
     "base_uri": "https://localhost:8080/"
    },
    "id": "f66bc719-02be-4f12-8aed-e71b78f9a7d7",
    "outputId": "82553ae4-e959-4576-bf15-b9c50ff6d721"
   },
   "outputs": [
    {
     "data": {
      "text/plain": [
       "2"
      ]
     },
     "execution_count": 71,
     "metadata": {},
     "output_type": "execute_result"
    }
   ],
   "source": [
    "# q4 - prof demo - count how many time all the words are in the doc\n",
    "# 4.4.4 has examples + output\n",
    "# docstring: https://github.com/LeDataSciFi/ledatascifi-2023/blob/main/community_codebook/near_regex.py\n",
    "# solve \n",
    "\n",
    "len(re.findall(r'\\b(happy|smile|hopeful)\\b',sentence))\n",
    " "
   ]
  },
  {
   "cell_type": "markdown",
   "id": "405428e0-938e-4227-91af-091fbfa690b9",
   "metadata": {
    "id": "405428e0-938e-4227-91af-091fbfa690b9"
   },
   "source": [
    "That worked. Let's try to do the same using NEAR_regex.\n",
    "\n",
    "- look at docstring `help(NEAR_regex)` and 4.4.4 to learn about function"
   ]
  },
  {
   "cell_type": "code",
   "execution_count": 72,
   "id": "35c8dc51-6790-4dc7-aea3-e4e66c1d1556",
   "metadata": {
    "colab": {
     "base_uri": "https://localhost:8080/",
     "height": 35
    },
    "id": "35c8dc51-6790-4dc7-aea3-e4e66c1d1556",
    "outputId": "15e66365-bfcf-4fb5-d27b-1d3591e940ec"
   },
   "outputs": [
    {
     "data": {
      "application/vnd.google.colaboratory.intrinsic+json": {
       "type": "string"
      },
      "text/plain": [
       "'(?:\\\\b(happy|smile|hopeful)\\\\b)'"
      ]
     },
     "execution_count": 72,
     "metadata": {},
     "output_type": "execute_result"
    }
   ],
   "source": [
    "# look for topic1 near topic2 \n",
    "# topic is a list of words, (word1|word2)a\n",
    "happy_sentiment_stringlist = ['(happy|smile|hopeful)']  # this is a list!!!!!\n",
    "NEAR_regex(happy_sentiment_stringlist)"
   ]
  },
  {
   "cell_type": "markdown",
   "id": "269cb009-8258-4da2-8301-5507581bf065",
   "metadata": {
    "id": "269cb009-8258-4da2-8301-5507581bf065"
   },
   "source": [
    "Warning!\n",
    "\n",
    "Check that the length of the \"stuff\" you give NEAR_regex <= 4. \n",
    "\n",
    "Updated version of function in codebook has a check at the top to prevent disaster.\n"
   ]
  },
  {
   "cell_type": "code",
   "execution_count": 73,
   "id": "0ff03b70-9c2e-45e5-b68f-b4234c72a0cf",
   "metadata": {
    "colab": {
     "base_uri": "https://localhost:8080/"
    },
    "id": "0ff03b70-9c2e-45e5-b68f-b4234c72a0cf",
    "outputId": "47c0699a-2a1e-420b-8713-9f5387d509ec"
   },
   "outputs": [
    {
     "data": {
      "text/plain": [
       "2"
      ]
     },
     "execution_count": 73,
     "metadata": {},
     "output_type": "execute_result"
    }
   ],
   "source": [
    "len(re.findall(NEAR_regex(happy_sentiment_stringlist)\n",
    "    ,sentence))\n",
    "\n",
    "# partial = true finds smiles\n",
    "# partal = false makes sense with well defined and large lists \n",
    "# max_words... how many is \"right\" \n",
    "# max_words = 5 ... means the words must be separated by at most 5, but the \"window\" around the anchor is 10 words"
   ]
  },
  {
   "cell_type": "code",
   "execution_count": 74,
   "id": "f42fa877-20a1-4f7f-890a-fb55f84b9589",
   "metadata": {
    "id": "f42fa877-20a1-4f7f-890a-fb55f84b9589"
   },
   "outputs": [],
   "source": [
    "# q5 - using py's string functions, convert\n",
    "# happy_sentiment into the format NEAR_regex() wants \n",
    "# hint: 4.4.1\n",
    "\n",
    "happy_sentiment # take happy_sentiment, output this: '(happy|smile|hopeful)'\n",
    "happy_for_regex =      ['('+'|'.join(happy_sentiment)+')']     \n"
   ]
  },
  {
   "cell_type": "code",
   "execution_count": 75,
   "id": "0c738e28-d4ad-49ea-8872-3bb3f6fbdabd",
   "metadata": {
    "colab": {
     "base_uri": "https://localhost:8080/"
    },
    "id": "0c738e28-d4ad-49ea-8872-3bb3f6fbdabd",
    "outputId": "6dd400e2-0c3b-4ace-f61d-1ca60f2582e2"
   },
   "outputs": [
    {
     "data": {
      "text/plain": [
       "0.15384615384615385"
      ]
     },
     "execution_count": 75,
     "metadata": {},
     "output_type": "execute_result"
    }
   ],
   "source": [
    "# q6 - calculate the doc's happy_sentiment score\n",
    "\n",
    "(\n",
    "len(re.findall(NEAR_regex(happy_for_regex),sentence)) \n",
    "/\n",
    "len(sentence.split())\n",
    ")\n"
   ]
  },
  {
   "cell_type": "markdown",
   "id": "5087371c-09ab-44bc-96e7-3f1d3857556c",
   "metadata": {
    "id": "5087371c-09ab-44bc-96e7-3f1d3857556c"
   },
   "source": [
    "Now, you know how to \n",
    "1. Load the sentiment dictionaries\n",
    "1. Convert each to a form for NEAR_regex\n",
    "1. Use each regex to count hits in a doc\n",
    "1. Measure each sentiment"
   ]
  },
  {
   "cell_type": "markdown",
   "id": "c9906de8-c99f-4651-9cfb-2a7ad8f4cc60",
   "metadata": {
    "id": "c9906de8-c99f-4651-9cfb-2a7ad8f4cc60"
   },
   "source": [
    "## Opening a 10-K file\n",
    "\n",
    "I'm giving everyone this code because dealing with Zips is a headache the first 15 times you do it.\n",
    "- Open the zip before the loop and get a list of all files already in it\n",
    "- With that zip open, do your loopy stuff inside it\n",
    "\n",
    "You'll update this loop with things we've learned already. Put the lego pieces together. "
   ]
  },
  {
   "cell_type": "code",
   "execution_count": 76,
   "id": "d3c63770-1ea8-4e97-96aa-03030e4751b8",
   "metadata": {
    "id": "d3c63770-1ea8-4e97-96aa-03030e4751b8"
   },
   "outputs": [],
   "source": [
    "# open the zip file (do this before the for loop\n",
    "# so you only open it one time... faster)\n",
    "with ZipFile('10k_files/10k_files.zip','r') as zipfolder:\n",
    "    \n",
    "    # before the loop, get list of files in zipped folder\n",
    "    file_list = zipfolder.namelist()\n",
    "        \n",
    "    # replace this with how you'd loop over the dataframe\n",
    "    for firm in [\"ALLE\"]: #,\"MMM\",\"TSLA\"]:\n",
    "        \n",
    "        # get a list of possible files for this firm\n",
    "        firm_folder    = \"sec-edgar-filings/\" + firm + '/10-K/*/*.html'\n",
    "        possible_files = fnmatch.filter(file_list, firm_folder) \n",
    "        if len(possible_files) == 0: \n",
    "            continue\n",
    "            \n",
    "        fpath = possible_files[0] # the first match is the path to the file\n",
    "\n",
    "        # open the file (this is a little different!)\n",
    "        with zipfolder.open(fpath) as report_file:\n",
    "            html = report_file.read().decode(encoding=\"utf-8\")"
   ]
  },
  {
   "cell_type": "markdown",
   "id": "3c9633d1-6074-4f45-a207-ec1e2633ea6f",
   "metadata": {
    "id": "3c9633d1-6074-4f45-a207-ec1e2633ea6f"
   },
   "source": [
    "## Cleaning the html\n",
    "\n",
    "Print out `html`... "
   ]
  },
  {
   "cell_type": "code",
   "execution_count": 77,
   "id": "48b9ce50-afea-4414-8fc1-71499a31aaf5",
   "metadata": {
    "colab": {
     "base_uri": "https://localhost:8080/",
     "height": 107
    },
    "id": "48b9ce50-afea-4414-8fc1-71499a31aaf5",
    "outputId": "7f1f84e9-2563-458d-ba4f-037c407bd29b"
   },
   "outputs": [
    {
     "data": {
      "application/vnd.google.colaboratory.intrinsic+json": {
       "type": "string"
      },
      "text/plain": [
       "'<?xml version=\"1.0\" ?><!--XBRL Document Created with Wdesk from Workiva--><!--Copyright 2022 Workiva--><!--r:55fcaf7e-a32c-46db-9214-d3455640547a,g:8d4d7be5-91d0-4fc9-ad03-d6b94bcac834,d:42dbe9d853384615ac6fc384cf0f23cd--><html xml:lang=\"en-US\" xmlns=\"http://www.w3.org/1999/xhtml\" xmlns:alle=\"http://www.allegion.com/20211231\" xmlns:country=\"http://xbrl.sec.gov/country/2021\" xmlns:dei=\"http://xbrl.sec.gov/dei/2021q4\" xmlns:iso4217=\"http://www.xbrl.org/2003/iso4217\" xmlns:ix=\"http://www.xbrl.org/2'"
      ]
     },
     "execution_count": 77,
     "metadata": {},
     "output_type": "execute_result"
    }
   ],
   "source": [
    "html[:500]"
   ]
  },
  {
   "cell_type": "markdown",
   "id": "35ebf63d-588b-4b5c-8834-0d04019230f7",
   "metadata": {
    "id": "35ebf63d-588b-4b5c-8834-0d04019230f7"
   },
   "source": [
    "Regex won't work on this as is! We need to remove all the html tags, drop the hidden data, and then, with the remaining text, clean it up using the \"Good ideas\" in 4.4 and 4.4.4 of the book. However, we have to slightly adjust the code. \n",
    "\n",
    "1. Use BeautifulSoup() with the `lxml-xml` parser. Call the output `soup`. Don't use `get_text` yet. \n",
    "1. Delete the hidden XBRL \n",
    "\n",
    "    ```python\n",
    "    for div in soup.find_all(\"div\", {'style':'display:none'}): \n",
    "        div.decompose()\n",
    "    ```\n",
    "    \n",
    "1. Continue on (get the text from the soup, and continue from there...)\n",
    "1. Check: My cleaned string says \"allegion\" in positions 396-404"
   ]
  },
  {
   "cell_type": "code",
   "execution_count": 78,
   "id": "426ad006-18ee-4a08-b826-ac8a4c1e61fd",
   "metadata": {
    "id": "426ad006-18ee-4a08-b826-ac8a4c1e61fd"
   },
   "outputs": [],
   "source": [
    "# work here\n",
    "\n",
    "soup = BeautifulSoup(html,features='lxml-xml')\n",
    "\n",
    "for div in soup.find_all(\"div\", {'style':'display:none'}): \n",
    "    div.decompose()\n",
    "    \n",
    "lower = soup.get_text().lower()    \n",
    "no_punc = re.sub(r'\\W',' ',lower)    \n",
    "cleaned = re.sub(r'\\s+',' ',no_punc)   "
   ]
  },
  {
   "cell_type": "markdown",
   "id": "8c7b70af-c46c-47dd-85f7-31c56c7f0cec",
   "metadata": {
    "id": "8c7b70af-c46c-47dd-85f7-31c56c7f0cec"
   },
   "source": [
    "## Get 10-K dates\n",
    "\n",
    "We need to know when the 10-K is released to see the stock returns around it.\n",
    "\n",
    "I'm going to give you most of this code. How I figured it out:\n",
    "- I know we have the CIK and accession number\n",
    "- Looked for EDGAR urls that have CIK + accession number, and then list filing date on the page\n",
    "- https://www.sec.gov/Archives/edgar/data/1122304/0001193125-15-118890-index.html\n",
    "- `requests_html` ([my listed suggestion here](https://ledatascifi.github.io/ledatascifi-2023/content/04/01_Intro_to_scraping.html#my-suggestion)) is the `requests` module for getting data from the web PLUS the ability to grab parts of the html\n",
    "    \n",
    "Exercise:\n",
    "- I used code straight off the [documentation's home page](https://requests.readthedocs.io/projects/requests-html/en/latest/), adapted slightly. Look for examples that _find_ parts of the html.\n",
    "- You'll need to figure out the \"CSS Selector\"\n",
    "    - right click on the filing date on the webpage, click inspect\n",
    "    - in the area that popped up, right click on html code containing that date and copy the CSS selector\n"
   ]
  },
  {
   "cell_type": "code",
   "execution_count": 79,
   "id": "TahU-_BDdtbl",
   "metadata": {
    "colab": {
     "base_uri": "https://localhost:8080/"
    },
    "id": "TahU-_BDdtbl",
    "outputId": "a664f3d2-baa3-4ed9-e8ca-8b4f4de9c657"
   },
   "outputs": [
    {
     "name": "stdout",
     "output_type": "stream",
     "text": [
      "Looking in indexes: https://pypi.org/simple, https://us-python.pkg.dev/colab-wheels/public/simple/\n",
      "Requirement already satisfied: requests_html in /usr/local/lib/python3.9/dist-packages (0.10.0)\n",
      "Requirement already satisfied: pyquery in /usr/local/lib/python3.9/dist-packages (from requests_html) (2.0.0)\n",
      "Requirement already satisfied: parse in /usr/local/lib/python3.9/dist-packages (from requests_html) (1.19.0)\n",
      "Requirement already satisfied: pyppeteer>=0.0.14 in /usr/local/lib/python3.9/dist-packages (from requests_html) (1.0.2)\n",
      "Requirement already satisfied: requests in /usr/local/lib/python3.9/dist-packages (from requests_html) (2.27.1)\n",
      "Requirement already satisfied: w3lib in /usr/local/lib/python3.9/dist-packages (from requests_html) (2.1.1)\n",
      "Requirement already satisfied: bs4 in /usr/local/lib/python3.9/dist-packages (from requests_html) (0.0.1)\n",
      "Requirement already satisfied: fake-useragent in /usr/local/lib/python3.9/dist-packages (from requests_html) (1.1.3)\n",
      "Requirement already satisfied: importlib-metadata>=1.4 in /usr/local/lib/python3.9/dist-packages (from pyppeteer>=0.0.14->requests_html) (6.1.0)\n",
      "Requirement already satisfied: tqdm<5.0.0,>=4.42.1 in /usr/local/lib/python3.9/dist-packages (from pyppeteer>=0.0.14->requests_html) (4.65.0)\n",
      "Requirement already satisfied: appdirs<2.0.0,>=1.4.3 in /usr/local/lib/python3.9/dist-packages (from pyppeteer>=0.0.14->requests_html) (1.4.4)\n",
      "Requirement already satisfied: websockets<11.0,>=10.0 in /usr/local/lib/python3.9/dist-packages (from pyppeteer>=0.0.14->requests_html) (10.4)\n",
      "Requirement already satisfied: certifi>=2021 in /usr/local/lib/python3.9/dist-packages (from pyppeteer>=0.0.14->requests_html) (2022.12.7)\n",
      "Requirement already satisfied: urllib3<2.0.0,>=1.25.8 in /usr/local/lib/python3.9/dist-packages (from pyppeteer>=0.0.14->requests_html) (1.26.15)\n",
      "Requirement already satisfied: pyee<9.0.0,>=8.1.0 in /usr/local/lib/python3.9/dist-packages (from pyppeteer>=0.0.14->requests_html) (8.2.2)\n",
      "Requirement already satisfied: beautifulsoup4 in /usr/local/lib/python3.9/dist-packages (from bs4->requests_html) (4.11.2)\n",
      "Requirement already satisfied: importlib-resources>=5.0 in /usr/local/lib/python3.9/dist-packages (from fake-useragent->requests_html) (5.12.0)\n",
      "Requirement already satisfied: cssselect>=1.2.0 in /usr/local/lib/python3.9/dist-packages (from pyquery->requests_html) (1.2.0)\n",
      "Requirement already satisfied: lxml>=2.1 in /usr/local/lib/python3.9/dist-packages (from pyquery->requests_html) (4.9.2)\n",
      "Requirement already satisfied: idna<4,>=2.5 in /usr/local/lib/python3.9/dist-packages (from requests->requests_html) (3.4)\n",
      "Requirement already satisfied: charset-normalizer~=2.0.0 in /usr/local/lib/python3.9/dist-packages (from requests->requests_html) (2.0.12)\n",
      "Requirement already satisfied: zipp>=0.5 in /usr/local/lib/python3.9/dist-packages (from importlib-metadata>=1.4->pyppeteer>=0.0.14->requests_html) (3.15.0)\n",
      "Requirement already satisfied: soupsieve>1.2 in /usr/local/lib/python3.9/dist-packages (from beautifulsoup4->bs4->requests_html) (2.4)\n"
     ]
    }
   ],
   "source": [
    "!pip install requests_html"
   ]
  },
  {
   "cell_type": "code",
   "execution_count": 80,
   "id": "bc3b5286-1c2a-490c-aa1a-179d5cc22700",
   "metadata": {
    "colab": {
     "base_uri": "https://localhost:8080/"
    },
    "id": "bc3b5286-1c2a-490c-aa1a-179d5cc22700",
    "outputId": "2cf9e5bf-153c-4717-faea-79de896ded7e"
   },
   "outputs": [
    {
     "name": "stdout",
     "output_type": "stream",
     "text": [
      "https://www.sec.gov/Archives/edgar/data/1122304/0001193125-15-118890-index.html\n"
     ]
    }
   ],
   "source": [
    "# before the loop, set up a browser session\n",
    "\n",
    "from requests_html import HTMLSession\n",
    "session = HTMLSession()\n",
    "\n",
    "# inside your loop, get the cik and accession number for the filing\n",
    "\n",
    "cik = 1122304\n",
    "accession_number = '0001193125-15-118890'\n",
    "\n",
    "# *one* way to get the filing date... \n",
    "\n",
    "url = f'https://www.sec.gov/Archives/edgar/data/{cik}/{accession_number}-index.html'\n",
    "print(url) # check it out...\n",
    "r = session.get(url)"
   ]
  },
  {
   "cell_type": "code",
   "execution_count": 86,
   "id": "9307f137-fa28-47d4-a45c-ff5b42d9d89f",
   "metadata": {
    "colab": {
     "base_uri": "https://localhost:8080/",
     "height": 91
    },
    "id": "9307f137-fa28-47d4-a45c-ff5b42d9d89f",
    "outputId": "2c714631-95aa-41a5-8927-7e9076979ae2"
   },
   "outputs": [
    {
     "name": "stderr",
     "output_type": "stream",
     "text": [
      "<ipython-input-86-27234113d416>:6: DeprecationWarning: The 'text' argument to find()-type methods is deprecated. Use 'string' instead.\n",
      "  soup.find('div',text='Filing Date').find_next_sibling('div').text.strip()\n"
     ]
    },
    {
     "data": {
      "application/vnd.google.colaboratory.intrinsic+json": {
       "type": "string"
      },
      "text/plain": [
       "'2015-04-03'"
      ]
     },
     "execution_count": 86,
     "metadata": {},
     "output_type": "execute_result"
    }
   ],
   "source": [
    "# EXERCISE: get the filing date out of this \"r\" object (one line of code will do)\n",
    "r.html.find('div.formGrouping:nth-child(1) > div:nth-child(2)',first=True).text\n",
    "\n",
    "# more readable, easier to understand, but... need to know a lil\n",
    "soup = BeautifulSoup(r.text, 'html.parser')\n",
    "soup.find('div',text='Filing Date').find_next_sibling('div').text.strip()\n"
   ]
  },
  {
   "cell_type": "markdown",
   "id": "8c34a7d5-f345-49df-93c3-13d46ad1a160",
   "metadata": {
    "id": "8c34a7d5-f345-49df-93c3-13d46ad1a160"
   },
   "source": [
    "To use this in your actual midterm, save the  accession_number to your database while doing the main for loop to parse the text.\n",
    "\n",
    "Then, after that, I wrote a second for loop that loops over the rows, and uses the code above to grab the date. I added some error checking (What if we don't have an accession number for that firm, what if the url is wrong, or the server denies you, or the line of code with filing_date fails?)"
   ]
  },
  {
   "cell_type": "markdown",
   "id": "0d0af1b2-4d57-448b-8673-3e20d5cb2b50",
   "metadata": {
    "id": "0d0af1b2-4d57-448b-8673-3e20d5cb2b50"
   },
   "source": [
    "## Get returns around the 10-K dates\n",
    "\n",
    "[Returns for 2022 are here.](https://github.com/LeDataSciFi/data/blob/main/Stock%20Returns%20(CRSP))\n",
    "\n",
    "Before you try to use that, here are toy datasets of returns and filing dates that mimic the structure of the data you'll actually have. "
   ]
  },
  {
   "cell_type": "code",
   "execution_count": 82,
   "id": "2826dd22-cb38-4680-9bbe-317291406f88",
   "metadata": {
    "id": "2826dd22-cb38-4680-9bbe-317291406f88"
   },
   "outputs": [],
   "source": [
    "data = {\n",
    "    'ticker': ['JJSF']*20 + ['TSLA']*20,\n",
    "    'date': ['2021-12-01', '2021-12-02', '2021-12-03', '2021-12-06', '2021-12-07', '2021-12-08', '2021-12-09', '2021-12-10', '2021-12-13', '2021-12-14', '2021-12-15', '2021-12-16', '2021-12-17', '2021-12-20', '2021-12-21', '2021-12-22', '2021-12-23', '2021-12-27', '2021-12-28', '2021-12-29'] + ['2022-12-02', '2022-12-05', '2022-12-06', '2022-12-07', '2022-12-08', '2022-12-09', '2022-12-12', '2022-12-13', '2022-12-14', '2022-12-15', '2022-12-16', '2022-12-19', '2022-12-20', '2022-12-21', '2022-12-22', '2022-12-23', '2022-12-27', '2022-12-28', '2022-12-29', '2022-12-30'],\n",
    "    'ret': [-0.011276, 0.030954, 0.000287, 0.014362, 0.012459, 0.017200, -0.010173, 0.011875, 0.012559, 0.002508, 0.022852, 0.012360, 0.017387, -0.008957, 0.016840, -0.000256, -0.002558, 0.009041, -0.002097, 0.010189] + [0.000822, -0.063687, -0.014415, -0.032143, -0.003447, 0.032345, -0.062720, -0.040937, -0.025784, 0.005548, -0.047187, -0.002396, -0.080536, -0.001669, -0.088828, -0.017551, -0.114089, 0.033089, 0.080827, 0.011164]\n",
    "}\n",
    "\n",
    "crsp = pd.DataFrame(data)\n",
    "crsp['date'] = pd.to_datetime(crsp['date'])\n",
    "\n",
    "fake_filings = pd.DataFrame({'ticker':['JJSF','TSLA'],\n",
    "                             'filing_date':['2021-12-03','2022-12-13']})"
   ]
  },
  {
   "cell_type": "code",
   "execution_count": 83,
   "id": "f495ed75-0584-4dbb-97f6-d5c74cf6e9f4",
   "metadata": {
    "colab": {
     "base_uri": "https://localhost:8080/",
     "height": 1000
    },
    "id": "f495ed75-0584-4dbb-97f6-d5c74cf6e9f4",
    "outputId": "2d2aca96-3cbc-4f59-bb18-66d3622b4adb"
   },
   "outputs": [
    {
     "data": {
      "text/html": [
       "\n",
       "  <div id=\"df-6ac261ed-5207-404b-821b-1f20b00be8b3\">\n",
       "    <div class=\"colab-df-container\">\n",
       "      <div>\n",
       "<style scoped>\n",
       "    .dataframe tbody tr th:only-of-type {\n",
       "        vertical-align: middle;\n",
       "    }\n",
       "\n",
       "    .dataframe tbody tr th {\n",
       "        vertical-align: top;\n",
       "    }\n",
       "\n",
       "    .dataframe thead th {\n",
       "        text-align: right;\n",
       "    }\n",
       "</style>\n",
       "<table border=\"1\" class=\"dataframe\">\n",
       "  <thead>\n",
       "    <tr style=\"text-align: right;\">\n",
       "      <th></th>\n",
       "      <th>ticker</th>\n",
       "      <th>date</th>\n",
       "      <th>ret</th>\n",
       "    </tr>\n",
       "  </thead>\n",
       "  <tbody>\n",
       "    <tr>\n",
       "      <th>0</th>\n",
       "      <td>JJSF</td>\n",
       "      <td>2021-12-01</td>\n",
       "      <td>-0.011276</td>\n",
       "    </tr>\n",
       "    <tr>\n",
       "      <th>1</th>\n",
       "      <td>JJSF</td>\n",
       "      <td>2021-12-02</td>\n",
       "      <td>0.030954</td>\n",
       "    </tr>\n",
       "    <tr>\n",
       "      <th>2</th>\n",
       "      <td>JJSF</td>\n",
       "      <td>2021-12-03</td>\n",
       "      <td>0.000287</td>\n",
       "    </tr>\n",
       "    <tr>\n",
       "      <th>3</th>\n",
       "      <td>JJSF</td>\n",
       "      <td>2021-12-06</td>\n",
       "      <td>0.014362</td>\n",
       "    </tr>\n",
       "    <tr>\n",
       "      <th>4</th>\n",
       "      <td>JJSF</td>\n",
       "      <td>2021-12-07</td>\n",
       "      <td>0.012459</td>\n",
       "    </tr>\n",
       "    <tr>\n",
       "      <th>5</th>\n",
       "      <td>JJSF</td>\n",
       "      <td>2021-12-08</td>\n",
       "      <td>0.017200</td>\n",
       "    </tr>\n",
       "    <tr>\n",
       "      <th>6</th>\n",
       "      <td>JJSF</td>\n",
       "      <td>2021-12-09</td>\n",
       "      <td>-0.010173</td>\n",
       "    </tr>\n",
       "    <tr>\n",
       "      <th>7</th>\n",
       "      <td>JJSF</td>\n",
       "      <td>2021-12-10</td>\n",
       "      <td>0.011875</td>\n",
       "    </tr>\n",
       "    <tr>\n",
       "      <th>8</th>\n",
       "      <td>JJSF</td>\n",
       "      <td>2021-12-13</td>\n",
       "      <td>0.012559</td>\n",
       "    </tr>\n",
       "    <tr>\n",
       "      <th>9</th>\n",
       "      <td>JJSF</td>\n",
       "      <td>2021-12-14</td>\n",
       "      <td>0.002508</td>\n",
       "    </tr>\n",
       "    <tr>\n",
       "      <th>10</th>\n",
       "      <td>JJSF</td>\n",
       "      <td>2021-12-15</td>\n",
       "      <td>0.022852</td>\n",
       "    </tr>\n",
       "    <tr>\n",
       "      <th>11</th>\n",
       "      <td>JJSF</td>\n",
       "      <td>2021-12-16</td>\n",
       "      <td>0.012360</td>\n",
       "    </tr>\n",
       "    <tr>\n",
       "      <th>12</th>\n",
       "      <td>JJSF</td>\n",
       "      <td>2021-12-17</td>\n",
       "      <td>0.017387</td>\n",
       "    </tr>\n",
       "    <tr>\n",
       "      <th>13</th>\n",
       "      <td>JJSF</td>\n",
       "      <td>2021-12-20</td>\n",
       "      <td>-0.008957</td>\n",
       "    </tr>\n",
       "    <tr>\n",
       "      <th>14</th>\n",
       "      <td>JJSF</td>\n",
       "      <td>2021-12-21</td>\n",
       "      <td>0.016840</td>\n",
       "    </tr>\n",
       "    <tr>\n",
       "      <th>15</th>\n",
       "      <td>JJSF</td>\n",
       "      <td>2021-12-22</td>\n",
       "      <td>-0.000256</td>\n",
       "    </tr>\n",
       "    <tr>\n",
       "      <th>16</th>\n",
       "      <td>JJSF</td>\n",
       "      <td>2021-12-23</td>\n",
       "      <td>-0.002558</td>\n",
       "    </tr>\n",
       "    <tr>\n",
       "      <th>17</th>\n",
       "      <td>JJSF</td>\n",
       "      <td>2021-12-27</td>\n",
       "      <td>0.009041</td>\n",
       "    </tr>\n",
       "    <tr>\n",
       "      <th>18</th>\n",
       "      <td>JJSF</td>\n",
       "      <td>2021-12-28</td>\n",
       "      <td>-0.002097</td>\n",
       "    </tr>\n",
       "    <tr>\n",
       "      <th>19</th>\n",
       "      <td>JJSF</td>\n",
       "      <td>2021-12-29</td>\n",
       "      <td>0.010189</td>\n",
       "    </tr>\n",
       "    <tr>\n",
       "      <th>20</th>\n",
       "      <td>TSLA</td>\n",
       "      <td>2022-12-02</td>\n",
       "      <td>0.000822</td>\n",
       "    </tr>\n",
       "    <tr>\n",
       "      <th>21</th>\n",
       "      <td>TSLA</td>\n",
       "      <td>2022-12-05</td>\n",
       "      <td>-0.063687</td>\n",
       "    </tr>\n",
       "    <tr>\n",
       "      <th>22</th>\n",
       "      <td>TSLA</td>\n",
       "      <td>2022-12-06</td>\n",
       "      <td>-0.014415</td>\n",
       "    </tr>\n",
       "    <tr>\n",
       "      <th>23</th>\n",
       "      <td>TSLA</td>\n",
       "      <td>2022-12-07</td>\n",
       "      <td>-0.032143</td>\n",
       "    </tr>\n",
       "    <tr>\n",
       "      <th>24</th>\n",
       "      <td>TSLA</td>\n",
       "      <td>2022-12-08</td>\n",
       "      <td>-0.003447</td>\n",
       "    </tr>\n",
       "    <tr>\n",
       "      <th>25</th>\n",
       "      <td>TSLA</td>\n",
       "      <td>2022-12-09</td>\n",
       "      <td>0.032345</td>\n",
       "    </tr>\n",
       "    <tr>\n",
       "      <th>26</th>\n",
       "      <td>TSLA</td>\n",
       "      <td>2022-12-12</td>\n",
       "      <td>-0.062720</td>\n",
       "    </tr>\n",
       "    <tr>\n",
       "      <th>27</th>\n",
       "      <td>TSLA</td>\n",
       "      <td>2022-12-13</td>\n",
       "      <td>-0.040937</td>\n",
       "    </tr>\n",
       "    <tr>\n",
       "      <th>28</th>\n",
       "      <td>TSLA</td>\n",
       "      <td>2022-12-14</td>\n",
       "      <td>-0.025784</td>\n",
       "    </tr>\n",
       "    <tr>\n",
       "      <th>29</th>\n",
       "      <td>TSLA</td>\n",
       "      <td>2022-12-15</td>\n",
       "      <td>0.005548</td>\n",
       "    </tr>\n",
       "    <tr>\n",
       "      <th>30</th>\n",
       "      <td>TSLA</td>\n",
       "      <td>2022-12-16</td>\n",
       "      <td>-0.047187</td>\n",
       "    </tr>\n",
       "    <tr>\n",
       "      <th>31</th>\n",
       "      <td>TSLA</td>\n",
       "      <td>2022-12-19</td>\n",
       "      <td>-0.002396</td>\n",
       "    </tr>\n",
       "    <tr>\n",
       "      <th>32</th>\n",
       "      <td>TSLA</td>\n",
       "      <td>2022-12-20</td>\n",
       "      <td>-0.080536</td>\n",
       "    </tr>\n",
       "    <tr>\n",
       "      <th>33</th>\n",
       "      <td>TSLA</td>\n",
       "      <td>2022-12-21</td>\n",
       "      <td>-0.001669</td>\n",
       "    </tr>\n",
       "    <tr>\n",
       "      <th>34</th>\n",
       "      <td>TSLA</td>\n",
       "      <td>2022-12-22</td>\n",
       "      <td>-0.088828</td>\n",
       "    </tr>\n",
       "    <tr>\n",
       "      <th>35</th>\n",
       "      <td>TSLA</td>\n",
       "      <td>2022-12-23</td>\n",
       "      <td>-0.017551</td>\n",
       "    </tr>\n",
       "    <tr>\n",
       "      <th>36</th>\n",
       "      <td>TSLA</td>\n",
       "      <td>2022-12-27</td>\n",
       "      <td>-0.114089</td>\n",
       "    </tr>\n",
       "    <tr>\n",
       "      <th>37</th>\n",
       "      <td>TSLA</td>\n",
       "      <td>2022-12-28</td>\n",
       "      <td>0.033089</td>\n",
       "    </tr>\n",
       "    <tr>\n",
       "      <th>38</th>\n",
       "      <td>TSLA</td>\n",
       "      <td>2022-12-29</td>\n",
       "      <td>0.080827</td>\n",
       "    </tr>\n",
       "    <tr>\n",
       "      <th>39</th>\n",
       "      <td>TSLA</td>\n",
       "      <td>2022-12-30</td>\n",
       "      <td>0.011164</td>\n",
       "    </tr>\n",
       "  </tbody>\n",
       "</table>\n",
       "</div>\n",
       "      <button class=\"colab-df-convert\" onclick=\"convertToInteractive('df-6ac261ed-5207-404b-821b-1f20b00be8b3')\"\n",
       "              title=\"Convert this dataframe to an interactive table.\"\n",
       "              style=\"display:none;\">\n",
       "        \n",
       "  <svg xmlns=\"http://www.w3.org/2000/svg\" height=\"24px\"viewBox=\"0 0 24 24\"\n",
       "       width=\"24px\">\n",
       "    <path d=\"M0 0h24v24H0V0z\" fill=\"none\"/>\n",
       "    <path d=\"M18.56 5.44l.94 2.06.94-2.06 2.06-.94-2.06-.94-.94-2.06-.94 2.06-2.06.94zm-11 1L8.5 8.5l.94-2.06 2.06-.94-2.06-.94L8.5 2.5l-.94 2.06-2.06.94zm10 10l.94 2.06.94-2.06 2.06-.94-2.06-.94-.94-2.06-.94 2.06-2.06.94z\"/><path d=\"M17.41 7.96l-1.37-1.37c-.4-.4-.92-.59-1.43-.59-.52 0-1.04.2-1.43.59L10.3 9.45l-7.72 7.72c-.78.78-.78 2.05 0 2.83L4 21.41c.39.39.9.59 1.41.59.51 0 1.02-.2 1.41-.59l7.78-7.78 2.81-2.81c.8-.78.8-2.07 0-2.86zM5.41 20L4 18.59l7.72-7.72 1.47 1.35L5.41 20z\"/>\n",
       "  </svg>\n",
       "      </button>\n",
       "      \n",
       "  <style>\n",
       "    .colab-df-container {\n",
       "      display:flex;\n",
       "      flex-wrap:wrap;\n",
       "      gap: 12px;\n",
       "    }\n",
       "\n",
       "    .colab-df-convert {\n",
       "      background-color: #E8F0FE;\n",
       "      border: none;\n",
       "      border-radius: 50%;\n",
       "      cursor: pointer;\n",
       "      display: none;\n",
       "      fill: #1967D2;\n",
       "      height: 32px;\n",
       "      padding: 0 0 0 0;\n",
       "      width: 32px;\n",
       "    }\n",
       "\n",
       "    .colab-df-convert:hover {\n",
       "      background-color: #E2EBFA;\n",
       "      box-shadow: 0px 1px 2px rgba(60, 64, 67, 0.3), 0px 1px 3px 1px rgba(60, 64, 67, 0.15);\n",
       "      fill: #174EA6;\n",
       "    }\n",
       "\n",
       "    [theme=dark] .colab-df-convert {\n",
       "      background-color: #3B4455;\n",
       "      fill: #D2E3FC;\n",
       "    }\n",
       "\n",
       "    [theme=dark] .colab-df-convert:hover {\n",
       "      background-color: #434B5C;\n",
       "      box-shadow: 0px 1px 3px 1px rgba(0, 0, 0, 0.15);\n",
       "      filter: drop-shadow(0px 1px 2px rgba(0, 0, 0, 0.3));\n",
       "      fill: #FFFFFF;\n",
       "    }\n",
       "  </style>\n",
       "\n",
       "      <script>\n",
       "        const buttonEl =\n",
       "          document.querySelector('#df-6ac261ed-5207-404b-821b-1f20b00be8b3 button.colab-df-convert');\n",
       "        buttonEl.style.display =\n",
       "          google.colab.kernel.accessAllowed ? 'block' : 'none';\n",
       "\n",
       "        async function convertToInteractive(key) {\n",
       "          const element = document.querySelector('#df-6ac261ed-5207-404b-821b-1f20b00be8b3');\n",
       "          const dataTable =\n",
       "            await google.colab.kernel.invokeFunction('convertToInteractive',\n",
       "                                                     [key], {});\n",
       "          if (!dataTable) return;\n",
       "\n",
       "          const docLinkHtml = 'Like what you see? Visit the ' +\n",
       "            '<a target=\"_blank\" href=https://colab.research.google.com/notebooks/data_table.ipynb>data table notebook</a>'\n",
       "            + ' to learn more about interactive tables.';\n",
       "          element.innerHTML = '';\n",
       "          dataTable['output_type'] = 'display_data';\n",
       "          await google.colab.output.renderOutput(dataTable, element);\n",
       "          const docLink = document.createElement('div');\n",
       "          docLink.innerHTML = docLinkHtml;\n",
       "          element.appendChild(docLink);\n",
       "        }\n",
       "      </script>\n",
       "    </div>\n",
       "  </div>\n",
       "  "
      ],
      "text/plain": [
       "   ticker       date       ret\n",
       "0    JJSF 2021-12-01 -0.011276\n",
       "1    JJSF 2021-12-02  0.030954\n",
       "2    JJSF 2021-12-03  0.000287\n",
       "3    JJSF 2021-12-06  0.014362\n",
       "4    JJSF 2021-12-07  0.012459\n",
       "5    JJSF 2021-12-08  0.017200\n",
       "6    JJSF 2021-12-09 -0.010173\n",
       "7    JJSF 2021-12-10  0.011875\n",
       "8    JJSF 2021-12-13  0.012559\n",
       "9    JJSF 2021-12-14  0.002508\n",
       "10   JJSF 2021-12-15  0.022852\n",
       "11   JJSF 2021-12-16  0.012360\n",
       "12   JJSF 2021-12-17  0.017387\n",
       "13   JJSF 2021-12-20 -0.008957\n",
       "14   JJSF 2021-12-21  0.016840\n",
       "15   JJSF 2021-12-22 -0.000256\n",
       "16   JJSF 2021-12-23 -0.002558\n",
       "17   JJSF 2021-12-27  0.009041\n",
       "18   JJSF 2021-12-28 -0.002097\n",
       "19   JJSF 2021-12-29  0.010189\n",
       "20   TSLA 2022-12-02  0.000822\n",
       "21   TSLA 2022-12-05 -0.063687\n",
       "22   TSLA 2022-12-06 -0.014415\n",
       "23   TSLA 2022-12-07 -0.032143\n",
       "24   TSLA 2022-12-08 -0.003447\n",
       "25   TSLA 2022-12-09  0.032345\n",
       "26   TSLA 2022-12-12 -0.062720\n",
       "27   TSLA 2022-12-13 -0.040937\n",
       "28   TSLA 2022-12-14 -0.025784\n",
       "29   TSLA 2022-12-15  0.005548\n",
       "30   TSLA 2022-12-16 -0.047187\n",
       "31   TSLA 2022-12-19 -0.002396\n",
       "32   TSLA 2022-12-20 -0.080536\n",
       "33   TSLA 2022-12-21 -0.001669\n",
       "34   TSLA 2022-12-22 -0.088828\n",
       "35   TSLA 2022-12-23 -0.017551\n",
       "36   TSLA 2022-12-27 -0.114089\n",
       "37   TSLA 2022-12-28  0.033089\n",
       "38   TSLA 2022-12-29  0.080827\n",
       "39   TSLA 2022-12-30  0.011164"
      ]
     },
     "execution_count": 83,
     "metadata": {},
     "output_type": "execute_result"
    }
   ],
   "source": [
    "crsp"
   ]
  },
  {
   "cell_type": "code",
   "execution_count": 84,
   "id": "d9c8b74f-0d1c-4e4a-bf3a-9e598f91cd89",
   "metadata": {
    "colab": {
     "base_uri": "https://localhost:8080/",
     "height": 112
    },
    "id": "d9c8b74f-0d1c-4e4a-bf3a-9e598f91cd89",
    "outputId": "f4b14e08-ce51-4a44-dd46-1f154f8b4d09"
   },
   "outputs": [
    {
     "data": {
      "text/html": [
       "\n",
       "  <div id=\"df-e3da941b-5373-4d09-9c17-b99ad290d613\">\n",
       "    <div class=\"colab-df-container\">\n",
       "      <div>\n",
       "<style scoped>\n",
       "    .dataframe tbody tr th:only-of-type {\n",
       "        vertical-align: middle;\n",
       "    }\n",
       "\n",
       "    .dataframe tbody tr th {\n",
       "        vertical-align: top;\n",
       "    }\n",
       "\n",
       "    .dataframe thead th {\n",
       "        text-align: right;\n",
       "    }\n",
       "</style>\n",
       "<table border=\"1\" class=\"dataframe\">\n",
       "  <thead>\n",
       "    <tr style=\"text-align: right;\">\n",
       "      <th></th>\n",
       "      <th>ticker</th>\n",
       "      <th>filing_date</th>\n",
       "    </tr>\n",
       "  </thead>\n",
       "  <tbody>\n",
       "    <tr>\n",
       "      <th>0</th>\n",
       "      <td>JJSF</td>\n",
       "      <td>2021-12-03</td>\n",
       "    </tr>\n",
       "    <tr>\n",
       "      <th>1</th>\n",
       "      <td>TSLA</td>\n",
       "      <td>2022-12-13</td>\n",
       "    </tr>\n",
       "  </tbody>\n",
       "</table>\n",
       "</div>\n",
       "      <button class=\"colab-df-convert\" onclick=\"convertToInteractive('df-e3da941b-5373-4d09-9c17-b99ad290d613')\"\n",
       "              title=\"Convert this dataframe to an interactive table.\"\n",
       "              style=\"display:none;\">\n",
       "        \n",
       "  <svg xmlns=\"http://www.w3.org/2000/svg\" height=\"24px\"viewBox=\"0 0 24 24\"\n",
       "       width=\"24px\">\n",
       "    <path d=\"M0 0h24v24H0V0z\" fill=\"none\"/>\n",
       "    <path d=\"M18.56 5.44l.94 2.06.94-2.06 2.06-.94-2.06-.94-.94-2.06-.94 2.06-2.06.94zm-11 1L8.5 8.5l.94-2.06 2.06-.94-2.06-.94L8.5 2.5l-.94 2.06-2.06.94zm10 10l.94 2.06.94-2.06 2.06-.94-2.06-.94-.94-2.06-.94 2.06-2.06.94z\"/><path d=\"M17.41 7.96l-1.37-1.37c-.4-.4-.92-.59-1.43-.59-.52 0-1.04.2-1.43.59L10.3 9.45l-7.72 7.72c-.78.78-.78 2.05 0 2.83L4 21.41c.39.39.9.59 1.41.59.51 0 1.02-.2 1.41-.59l7.78-7.78 2.81-2.81c.8-.78.8-2.07 0-2.86zM5.41 20L4 18.59l7.72-7.72 1.47 1.35L5.41 20z\"/>\n",
       "  </svg>\n",
       "      </button>\n",
       "      \n",
       "  <style>\n",
       "    .colab-df-container {\n",
       "      display:flex;\n",
       "      flex-wrap:wrap;\n",
       "      gap: 12px;\n",
       "    }\n",
       "\n",
       "    .colab-df-convert {\n",
       "      background-color: #E8F0FE;\n",
       "      border: none;\n",
       "      border-radius: 50%;\n",
       "      cursor: pointer;\n",
       "      display: none;\n",
       "      fill: #1967D2;\n",
       "      height: 32px;\n",
       "      padding: 0 0 0 0;\n",
       "      width: 32px;\n",
       "    }\n",
       "\n",
       "    .colab-df-convert:hover {\n",
       "      background-color: #E2EBFA;\n",
       "      box-shadow: 0px 1px 2px rgba(60, 64, 67, 0.3), 0px 1px 3px 1px rgba(60, 64, 67, 0.15);\n",
       "      fill: #174EA6;\n",
       "    }\n",
       "\n",
       "    [theme=dark] .colab-df-convert {\n",
       "      background-color: #3B4455;\n",
       "      fill: #D2E3FC;\n",
       "    }\n",
       "\n",
       "    [theme=dark] .colab-df-convert:hover {\n",
       "      background-color: #434B5C;\n",
       "      box-shadow: 0px 1px 3px 1px rgba(0, 0, 0, 0.15);\n",
       "      filter: drop-shadow(0px 1px 2px rgba(0, 0, 0, 0.3));\n",
       "      fill: #FFFFFF;\n",
       "    }\n",
       "  </style>\n",
       "\n",
       "      <script>\n",
       "        const buttonEl =\n",
       "          document.querySelector('#df-e3da941b-5373-4d09-9c17-b99ad290d613 button.colab-df-convert');\n",
       "        buttonEl.style.display =\n",
       "          google.colab.kernel.accessAllowed ? 'block' : 'none';\n",
       "\n",
       "        async function convertToInteractive(key) {\n",
       "          const element = document.querySelector('#df-e3da941b-5373-4d09-9c17-b99ad290d613');\n",
       "          const dataTable =\n",
       "            await google.colab.kernel.invokeFunction('convertToInteractive',\n",
       "                                                     [key], {});\n",
       "          if (!dataTable) return;\n",
       "\n",
       "          const docLinkHtml = 'Like what you see? Visit the ' +\n",
       "            '<a target=\"_blank\" href=https://colab.research.google.com/notebooks/data_table.ipynb>data table notebook</a>'\n",
       "            + ' to learn more about interactive tables.';\n",
       "          element.innerHTML = '';\n",
       "          dataTable['output_type'] = 'display_data';\n",
       "          await google.colab.output.renderOutput(dataTable, element);\n",
       "          const docLink = document.createElement('div');\n",
       "          docLink.innerHTML = docLinkHtml;\n",
       "          element.appendChild(docLink);\n",
       "        }\n",
       "      </script>\n",
       "    </div>\n",
       "  </div>\n",
       "  "
      ],
      "text/plain": [
       "  ticker filing_date\n",
       "0   JJSF  2021-12-03\n",
       "1   TSLA  2022-12-13"
      ]
     },
     "execution_count": 84,
     "metadata": {},
     "output_type": "execute_result"
    }
   ],
   "source": [
    "# try here...\n",
    "\n",
    "# pseudocode first! imagine the structure of the dataset you want and work backwards, you'll struggle otherwise!\n",
    "\n",
    "# this really is a paper and pencil problem\n",
    "fake_filings"
   ]
  },
  {
   "cell_type": "markdown",
   "id": "edbce527-c804-4998-9d6b-ec69d32a0588",
   "metadata": {
    "id": "edbce527-c804-4998-9d6b-ec69d32a0588"
   },
   "source": [
    "## Merge it all together\n",
    "\n",
    "The readme shows what the output dataset should look like, roughly. The midterm directions elaborate (10 sentiment variables, 2 return measures). "
   ]
  },
  {
   "cell_type": "markdown",
   "id": "cX6VS6sRYeSg",
   "metadata": {
    "id": "cX6VS6sRYeSg"
   },
   "source": [
    "Here is the outline of the code for completing the task:\n",
    "\n",
    "Load the necessary libraries and dependencies.\n",
    "\n",
    "Load the required input files: LM_MasterDictionary_1993-2021.csv, ML_negative_unigram.txt, ML_positive_unigram.txt, and sp500_2022.csv.\n",
    "\n",
    "Load the sample firms dataset saved inside the input/ folder.\n",
    "\n",
    "Define a function to clean the text of the 10-Ks.\n",
    "\n",
    "Define a function to calculate the sentiment scores of the 10-Ks using the LM and ML dictionaries.\n",
    "\n",
    "Loop over each firm in the sample dataset and perform the following tasks:\n",
    "a. Load the corresponding 10-K.\n",
    "b. Clean the text of the 10-K.\n",
    "c. Calculate the sentiment scores using the LM and ML dictionaries.\n",
    "d. Calculate the total length of the document and the number of unique words (bonus).\n",
    "e. Calculate the two return measurements and save those to the correct row and column in the dataframe.\n",
    "\n",
    "Save the output dataframe to the output/ folder.\n",
    "\n",
    "Create the necessary visualizations and tables for the report using the output dataframe."
   ]
  },
  {
   "cell_type": "markdown",
   "id": "QfSHOxFM8_Bl",
   "metadata": {
    "id": "QfSHOxFM8_Bl"
   },
   "source": [
    "#### 2 versions of a “buy and hold” around the 10-K date (“date t”)"
   ]
  },
  {
   "cell_type": "code",
   "execution_count": 91,
   "id": "YKXvFUQD9NZN",
   "metadata": {
    "colab": {
     "base_uri": "https://localhost:8080/"
    },
    "id": "YKXvFUQD9NZN",
    "outputId": "1af63717-23c2-4ebf-e8a7-6fece66b3b3a"
   },
   "outputs": [
    {
     "name": "stdout",
     "output_type": "stream",
     "text": [
      "/content\n"
     ]
    }
   ],
   "source": [
    "%cd /content"
   ]
  },
  {
   "cell_type": "code",
   "execution_count": 92,
   "id": "BcmPJfaP8X_T",
   "metadata": {
    "colab": {
     "base_uri": "https://localhost:8080/"
    },
    "id": "BcmPJfaP8X_T",
    "outputId": "23f6e6ce-72a7-4d29-8946-2086d80cb5da"
   },
   "outputs": [
    {
     "name": "stdout",
     "output_type": "stream",
     "text": [
      "Cloning into 'data'...\n",
      "remote: Enumerating objects: 98, done.\u001b[K\n",
      "remote: Counting objects: 100% (98/98), done.\u001b[K\n",
      "remote: Compressing objects: 100% (82/82), done.\u001b[K\n",
      "remote: Total 98 (delta 32), reused 53 (delta 13), pack-reused 0\u001b[K\n",
      "Unpacking objects: 100% (98/98), 66.08 MiB | 10.38 MiB/s, done.\n"
     ]
    }
   ],
   "source": [
    "!git clone https://github.com/LeDataSciFi/data\n",
    "!mv /content/data/'Stock Returns (CRSP)'/crsp_2022_only.zip /content"
   ]
  },
  {
   "cell_type": "code",
   "execution_count": null,
   "id": "lBXHALJ09XHW",
   "metadata": {
    "id": "lBXHALJ09XHW"
   },
   "outputs": [],
   "source": [
    "!unzip /content/crsp_2022_only.zip"
   ]
  },
  {
   "cell_type": "code",
   "execution_count": 99,
   "id": "qLsuv-6nAR5P",
   "metadata": {
    "id": "qLsuv-6nAR5P"
   },
   "outputs": [],
   "source": [
    "df = pd.read_stata('crsp_2022_only.dta')"
   ]
  },
  {
   "cell_type": "code",
   "execution_count": 103,
   "id": "zKNTPJ7ZAWA9",
   "metadata": {
    "colab": {
     "base_uri": "https://localhost:8080/",
     "height": 990
    },
    "id": "zKNTPJ7ZAWA9",
    "outputId": "317fce44-2f14-47e1-c67d-7ed3868f7036"
   },
   "outputs": [
    {
     "data": {
      "text/html": [
       "\n",
       "  <div id=\"df-79509f6a-4f79-43c3-9b1c-cee754575b33\">\n",
       "    <div class=\"colab-df-container\">\n",
       "      <div>\n",
       "<style scoped>\n",
       "    .dataframe tbody tr th:only-of-type {\n",
       "        vertical-align: middle;\n",
       "    }\n",
       "\n",
       "    .dataframe tbody tr th {\n",
       "        vertical-align: top;\n",
       "    }\n",
       "\n",
       "    .dataframe thead th {\n",
       "        text-align: right;\n",
       "    }\n",
       "</style>\n",
       "<table border=\"1\" class=\"dataframe\">\n",
       "  <thead>\n",
       "    <tr style=\"text-align: right;\">\n",
       "      <th></th>\n",
       "      <th>ticker</th>\n",
       "      <th>date</th>\n",
       "      <th>ret</th>\n",
       "    </tr>\n",
       "  </thead>\n",
       "  <tbody>\n",
       "    <tr>\n",
       "      <th>0</th>\n",
       "      <td>JJSF</td>\n",
       "      <td>2021-12-01</td>\n",
       "      <td>-0.011276</td>\n",
       "    </tr>\n",
       "    <tr>\n",
       "      <th>1</th>\n",
       "      <td>JJSF</td>\n",
       "      <td>2021-12-02</td>\n",
       "      <td>0.030954</td>\n",
       "    </tr>\n",
       "    <tr>\n",
       "      <th>2</th>\n",
       "      <td>JJSF</td>\n",
       "      <td>2021-12-03</td>\n",
       "      <td>0.000287</td>\n",
       "    </tr>\n",
       "    <tr>\n",
       "      <th>3</th>\n",
       "      <td>JJSF</td>\n",
       "      <td>2021-12-06</td>\n",
       "      <td>0.014362</td>\n",
       "    </tr>\n",
       "    <tr>\n",
       "      <th>4</th>\n",
       "      <td>JJSF</td>\n",
       "      <td>2021-12-07</td>\n",
       "      <td>0.012459</td>\n",
       "    </tr>\n",
       "    <tr>\n",
       "      <th>5</th>\n",
       "      <td>JJSF</td>\n",
       "      <td>2021-12-08</td>\n",
       "      <td>0.017200</td>\n",
       "    </tr>\n",
       "    <tr>\n",
       "      <th>6</th>\n",
       "      <td>JJSF</td>\n",
       "      <td>2021-12-09</td>\n",
       "      <td>-0.010173</td>\n",
       "    </tr>\n",
       "    <tr>\n",
       "      <th>7</th>\n",
       "      <td>JJSF</td>\n",
       "      <td>2021-12-10</td>\n",
       "      <td>0.011875</td>\n",
       "    </tr>\n",
       "    <tr>\n",
       "      <th>8</th>\n",
       "      <td>JJSF</td>\n",
       "      <td>2021-12-13</td>\n",
       "      <td>0.012559</td>\n",
       "    </tr>\n",
       "    <tr>\n",
       "      <th>9</th>\n",
       "      <td>JJSF</td>\n",
       "      <td>2021-12-14</td>\n",
       "      <td>0.002508</td>\n",
       "    </tr>\n",
       "    <tr>\n",
       "      <th>10</th>\n",
       "      <td>JJSF</td>\n",
       "      <td>2021-12-15</td>\n",
       "      <td>0.022852</td>\n",
       "    </tr>\n",
       "    <tr>\n",
       "      <th>11</th>\n",
       "      <td>JJSF</td>\n",
       "      <td>2021-12-16</td>\n",
       "      <td>0.012360</td>\n",
       "    </tr>\n",
       "    <tr>\n",
       "      <th>12</th>\n",
       "      <td>JJSF</td>\n",
       "      <td>2021-12-17</td>\n",
       "      <td>0.017387</td>\n",
       "    </tr>\n",
       "    <tr>\n",
       "      <th>13</th>\n",
       "      <td>JJSF</td>\n",
       "      <td>2021-12-20</td>\n",
       "      <td>-0.008957</td>\n",
       "    </tr>\n",
       "    <tr>\n",
       "      <th>14</th>\n",
       "      <td>JJSF</td>\n",
       "      <td>2021-12-21</td>\n",
       "      <td>0.016840</td>\n",
       "    </tr>\n",
       "    <tr>\n",
       "      <th>15</th>\n",
       "      <td>JJSF</td>\n",
       "      <td>2021-12-22</td>\n",
       "      <td>-0.000256</td>\n",
       "    </tr>\n",
       "    <tr>\n",
       "      <th>16</th>\n",
       "      <td>JJSF</td>\n",
       "      <td>2021-12-23</td>\n",
       "      <td>-0.002558</td>\n",
       "    </tr>\n",
       "    <tr>\n",
       "      <th>17</th>\n",
       "      <td>JJSF</td>\n",
       "      <td>2021-12-27</td>\n",
       "      <td>0.009041</td>\n",
       "    </tr>\n",
       "    <tr>\n",
       "      <th>18</th>\n",
       "      <td>JJSF</td>\n",
       "      <td>2021-12-28</td>\n",
       "      <td>-0.002097</td>\n",
       "    </tr>\n",
       "    <tr>\n",
       "      <th>19</th>\n",
       "      <td>JJSF</td>\n",
       "      <td>2021-12-29</td>\n",
       "      <td>0.010189</td>\n",
       "    </tr>\n",
       "    <tr>\n",
       "      <th>20</th>\n",
       "      <td>JJSF</td>\n",
       "      <td>2021-12-30</td>\n",
       "      <td>-0.002206</td>\n",
       "    </tr>\n",
       "    <tr>\n",
       "      <th>21</th>\n",
       "      <td>JJSF</td>\n",
       "      <td>2021-12-31</td>\n",
       "      <td>-0.002022</td>\n",
       "    </tr>\n",
       "    <tr>\n",
       "      <th>22</th>\n",
       "      <td>JJSF</td>\n",
       "      <td>2022-01-03</td>\n",
       "      <td>0.007344</td>\n",
       "    </tr>\n",
       "    <tr>\n",
       "      <th>23</th>\n",
       "      <td>JJSF</td>\n",
       "      <td>2022-01-04</td>\n",
       "      <td>-0.003582</td>\n",
       "    </tr>\n",
       "    <tr>\n",
       "      <th>24</th>\n",
       "      <td>JJSF</td>\n",
       "      <td>2022-01-05</td>\n",
       "      <td>-0.003406</td>\n",
       "    </tr>\n",
       "    <tr>\n",
       "      <th>25</th>\n",
       "      <td>JJSF</td>\n",
       "      <td>2022-01-06</td>\n",
       "      <td>-0.000316</td>\n",
       "    </tr>\n",
       "    <tr>\n",
       "      <th>26</th>\n",
       "      <td>JJSF</td>\n",
       "      <td>2022-01-07</td>\n",
       "      <td>0.004052</td>\n",
       "    </tr>\n",
       "    <tr>\n",
       "      <th>27</th>\n",
       "      <td>JJSF</td>\n",
       "      <td>2022-01-10</td>\n",
       "      <td>-0.008071</td>\n",
       "    </tr>\n",
       "    <tr>\n",
       "      <th>28</th>\n",
       "      <td>JJSF</td>\n",
       "      <td>2022-01-11</td>\n",
       "      <td>-0.015446</td>\n",
       "    </tr>\n",
       "    <tr>\n",
       "      <th>29</th>\n",
       "      <td>JJSF</td>\n",
       "      <td>2022-01-12</td>\n",
       "      <td>-0.015172</td>\n",
       "    </tr>\n",
       "  </tbody>\n",
       "</table>\n",
       "</div>\n",
       "      <button class=\"colab-df-convert\" onclick=\"convertToInteractive('df-79509f6a-4f79-43c3-9b1c-cee754575b33')\"\n",
       "              title=\"Convert this dataframe to an interactive table.\"\n",
       "              style=\"display:none;\">\n",
       "        \n",
       "  <svg xmlns=\"http://www.w3.org/2000/svg\" height=\"24px\"viewBox=\"0 0 24 24\"\n",
       "       width=\"24px\">\n",
       "    <path d=\"M0 0h24v24H0V0z\" fill=\"none\"/>\n",
       "    <path d=\"M18.56 5.44l.94 2.06.94-2.06 2.06-.94-2.06-.94-.94-2.06-.94 2.06-2.06.94zm-11 1L8.5 8.5l.94-2.06 2.06-.94-2.06-.94L8.5 2.5l-.94 2.06-2.06.94zm10 10l.94 2.06.94-2.06 2.06-.94-2.06-.94-.94-2.06-.94 2.06-2.06.94z\"/><path d=\"M17.41 7.96l-1.37-1.37c-.4-.4-.92-.59-1.43-.59-.52 0-1.04.2-1.43.59L10.3 9.45l-7.72 7.72c-.78.78-.78 2.05 0 2.83L4 21.41c.39.39.9.59 1.41.59.51 0 1.02-.2 1.41-.59l7.78-7.78 2.81-2.81c.8-.78.8-2.07 0-2.86zM5.41 20L4 18.59l7.72-7.72 1.47 1.35L5.41 20z\"/>\n",
       "  </svg>\n",
       "      </button>\n",
       "      \n",
       "  <style>\n",
       "    .colab-df-container {\n",
       "      display:flex;\n",
       "      flex-wrap:wrap;\n",
       "      gap: 12px;\n",
       "    }\n",
       "\n",
       "    .colab-df-convert {\n",
       "      background-color: #E8F0FE;\n",
       "      border: none;\n",
       "      border-radius: 50%;\n",
       "      cursor: pointer;\n",
       "      display: none;\n",
       "      fill: #1967D2;\n",
       "      height: 32px;\n",
       "      padding: 0 0 0 0;\n",
       "      width: 32px;\n",
       "    }\n",
       "\n",
       "    .colab-df-convert:hover {\n",
       "      background-color: #E2EBFA;\n",
       "      box-shadow: 0px 1px 2px rgba(60, 64, 67, 0.3), 0px 1px 3px 1px rgba(60, 64, 67, 0.15);\n",
       "      fill: #174EA6;\n",
       "    }\n",
       "\n",
       "    [theme=dark] .colab-df-convert {\n",
       "      background-color: #3B4455;\n",
       "      fill: #D2E3FC;\n",
       "    }\n",
       "\n",
       "    [theme=dark] .colab-df-convert:hover {\n",
       "      background-color: #434B5C;\n",
       "      box-shadow: 0px 1px 3px 1px rgba(0, 0, 0, 0.15);\n",
       "      filter: drop-shadow(0px 1px 2px rgba(0, 0, 0, 0.3));\n",
       "      fill: #FFFFFF;\n",
       "    }\n",
       "  </style>\n",
       "\n",
       "      <script>\n",
       "        const buttonEl =\n",
       "          document.querySelector('#df-79509f6a-4f79-43c3-9b1c-cee754575b33 button.colab-df-convert');\n",
       "        buttonEl.style.display =\n",
       "          google.colab.kernel.accessAllowed ? 'block' : 'none';\n",
       "\n",
       "        async function convertToInteractive(key) {\n",
       "          const element = document.querySelector('#df-79509f6a-4f79-43c3-9b1c-cee754575b33');\n",
       "          const dataTable =\n",
       "            await google.colab.kernel.invokeFunction('convertToInteractive',\n",
       "                                                     [key], {});\n",
       "          if (!dataTable) return;\n",
       "\n",
       "          const docLinkHtml = 'Like what you see? Visit the ' +\n",
       "            '<a target=\"_blank\" href=https://colab.research.google.com/notebooks/data_table.ipynb>data table notebook</a>'\n",
       "            + ' to learn more about interactive tables.';\n",
       "          element.innerHTML = '';\n",
       "          dataTable['output_type'] = 'display_data';\n",
       "          await google.colab.output.renderOutput(dataTable, element);\n",
       "          const docLink = document.createElement('div');\n",
       "          docLink.innerHTML = docLinkHtml;\n",
       "          element.appendChild(docLink);\n",
       "        }\n",
       "      </script>\n",
       "    </div>\n",
       "  </div>\n",
       "  "
      ],
      "text/plain": [
       "   ticker       date       ret\n",
       "0    JJSF 2021-12-01 -0.011276\n",
       "1    JJSF 2021-12-02  0.030954\n",
       "2    JJSF 2021-12-03  0.000287\n",
       "3    JJSF 2021-12-06  0.014362\n",
       "4    JJSF 2021-12-07  0.012459\n",
       "5    JJSF 2021-12-08  0.017200\n",
       "6    JJSF 2021-12-09 -0.010173\n",
       "7    JJSF 2021-12-10  0.011875\n",
       "8    JJSF 2021-12-13  0.012559\n",
       "9    JJSF 2021-12-14  0.002508\n",
       "10   JJSF 2021-12-15  0.022852\n",
       "11   JJSF 2021-12-16  0.012360\n",
       "12   JJSF 2021-12-17  0.017387\n",
       "13   JJSF 2021-12-20 -0.008957\n",
       "14   JJSF 2021-12-21  0.016840\n",
       "15   JJSF 2021-12-22 -0.000256\n",
       "16   JJSF 2021-12-23 -0.002558\n",
       "17   JJSF 2021-12-27  0.009041\n",
       "18   JJSF 2021-12-28 -0.002097\n",
       "19   JJSF 2021-12-29  0.010189\n",
       "20   JJSF 2021-12-30 -0.002206\n",
       "21   JJSF 2021-12-31 -0.002022\n",
       "22   JJSF 2022-01-03  0.007344\n",
       "23   JJSF 2022-01-04 -0.003582\n",
       "24   JJSF 2022-01-05 -0.003406\n",
       "25   JJSF 2022-01-06 -0.000316\n",
       "26   JJSF 2022-01-07  0.004052\n",
       "27   JJSF 2022-01-10 -0.008071\n",
       "28   JJSF 2022-01-11 -0.015446\n",
       "29   JJSF 2022-01-12 -0.015172"
      ]
     },
     "execution_count": 103,
     "metadata": {},
     "output_type": "execute_result"
    }
   ],
   "source": [
    "df.head(30)"
   ]
  },
  {
   "cell_type": "code",
   "execution_count": 104,
   "id": "M8dA_ZEBAZBp",
   "metadata": {
    "colab": {
     "base_uri": "https://localhost:8080/",
     "height": 300
    },
    "id": "M8dA_ZEBAZBp",
    "outputId": "5ffabf06-eed2-4dfd-fbc9-795bd9c6939c"
   },
   "outputs": [
    {
     "data": {
      "text/html": [
       "\n",
       "  <div id=\"df-c52da82c-555d-4bd5-b9f2-fd5ca8990712\">\n",
       "    <div class=\"colab-df-container\">\n",
       "      <div>\n",
       "<style scoped>\n",
       "    .dataframe tbody tr th:only-of-type {\n",
       "        vertical-align: middle;\n",
       "    }\n",
       "\n",
       "    .dataframe tbody tr th {\n",
       "        vertical-align: top;\n",
       "    }\n",
       "\n",
       "    .dataframe thead th {\n",
       "        text-align: right;\n",
       "    }\n",
       "</style>\n",
       "<table border=\"1\" class=\"dataframe\">\n",
       "  <thead>\n",
       "    <tr style=\"text-align: right;\">\n",
       "      <th></th>\n",
       "      <th>ret</th>\n",
       "    </tr>\n",
       "  </thead>\n",
       "  <tbody>\n",
       "    <tr>\n",
       "      <th>count</th>\n",
       "      <td>2.588861e+06</td>\n",
       "    </tr>\n",
       "    <tr>\n",
       "      <th>mean</th>\n",
       "      <td>8.057433e-05</td>\n",
       "    </tr>\n",
       "    <tr>\n",
       "      <th>std</th>\n",
       "      <td>1.429420e+00</td>\n",
       "    </tr>\n",
       "    <tr>\n",
       "      <th>min</th>\n",
       "      <td>-9.996924e-01</td>\n",
       "    </tr>\n",
       "    <tr>\n",
       "      <th>25%</th>\n",
       "      <td>-1.298071e-02</td>\n",
       "    </tr>\n",
       "    <tr>\n",
       "      <th>50%</th>\n",
       "      <td>-1.003011e-04</td>\n",
       "    </tr>\n",
       "    <tr>\n",
       "      <th>75%</th>\n",
       "      <td>1.067999e-02</td>\n",
       "    </tr>\n",
       "    <tr>\n",
       "      <th>max</th>\n",
       "      <td>2.299000e+03</td>\n",
       "    </tr>\n",
       "  </tbody>\n",
       "</table>\n",
       "</div>\n",
       "      <button class=\"colab-df-convert\" onclick=\"convertToInteractive('df-c52da82c-555d-4bd5-b9f2-fd5ca8990712')\"\n",
       "              title=\"Convert this dataframe to an interactive table.\"\n",
       "              style=\"display:none;\">\n",
       "        \n",
       "  <svg xmlns=\"http://www.w3.org/2000/svg\" height=\"24px\"viewBox=\"0 0 24 24\"\n",
       "       width=\"24px\">\n",
       "    <path d=\"M0 0h24v24H0V0z\" fill=\"none\"/>\n",
       "    <path d=\"M18.56 5.44l.94 2.06.94-2.06 2.06-.94-2.06-.94-.94-2.06-.94 2.06-2.06.94zm-11 1L8.5 8.5l.94-2.06 2.06-.94-2.06-.94L8.5 2.5l-.94 2.06-2.06.94zm10 10l.94 2.06.94-2.06 2.06-.94-2.06-.94-.94-2.06-.94 2.06-2.06.94z\"/><path d=\"M17.41 7.96l-1.37-1.37c-.4-.4-.92-.59-1.43-.59-.52 0-1.04.2-1.43.59L10.3 9.45l-7.72 7.72c-.78.78-.78 2.05 0 2.83L4 21.41c.39.39.9.59 1.41.59.51 0 1.02-.2 1.41-.59l7.78-7.78 2.81-2.81c.8-.78.8-2.07 0-2.86zM5.41 20L4 18.59l7.72-7.72 1.47 1.35L5.41 20z\"/>\n",
       "  </svg>\n",
       "      </button>\n",
       "      \n",
       "  <style>\n",
       "    .colab-df-container {\n",
       "      display:flex;\n",
       "      flex-wrap:wrap;\n",
       "      gap: 12px;\n",
       "    }\n",
       "\n",
       "    .colab-df-convert {\n",
       "      background-color: #E8F0FE;\n",
       "      border: none;\n",
       "      border-radius: 50%;\n",
       "      cursor: pointer;\n",
       "      display: none;\n",
       "      fill: #1967D2;\n",
       "      height: 32px;\n",
       "      padding: 0 0 0 0;\n",
       "      width: 32px;\n",
       "    }\n",
       "\n",
       "    .colab-df-convert:hover {\n",
       "      background-color: #E2EBFA;\n",
       "      box-shadow: 0px 1px 2px rgba(60, 64, 67, 0.3), 0px 1px 3px 1px rgba(60, 64, 67, 0.15);\n",
       "      fill: #174EA6;\n",
       "    }\n",
       "\n",
       "    [theme=dark] .colab-df-convert {\n",
       "      background-color: #3B4455;\n",
       "      fill: #D2E3FC;\n",
       "    }\n",
       "\n",
       "    [theme=dark] .colab-df-convert:hover {\n",
       "      background-color: #434B5C;\n",
       "      box-shadow: 0px 1px 3px 1px rgba(0, 0, 0, 0.15);\n",
       "      filter: drop-shadow(0px 1px 2px rgba(0, 0, 0, 0.3));\n",
       "      fill: #FFFFFF;\n",
       "    }\n",
       "  </style>\n",
       "\n",
       "      <script>\n",
       "        const buttonEl =\n",
       "          document.querySelector('#df-c52da82c-555d-4bd5-b9f2-fd5ca8990712 button.colab-df-convert');\n",
       "        buttonEl.style.display =\n",
       "          google.colab.kernel.accessAllowed ? 'block' : 'none';\n",
       "\n",
       "        async function convertToInteractive(key) {\n",
       "          const element = document.querySelector('#df-c52da82c-555d-4bd5-b9f2-fd5ca8990712');\n",
       "          const dataTable =\n",
       "            await google.colab.kernel.invokeFunction('convertToInteractive',\n",
       "                                                     [key], {});\n",
       "          if (!dataTable) return;\n",
       "\n",
       "          const docLinkHtml = 'Like what you see? Visit the ' +\n",
       "            '<a target=\"_blank\" href=https://colab.research.google.com/notebooks/data_table.ipynb>data table notebook</a>'\n",
       "            + ' to learn more about interactive tables.';\n",
       "          element.innerHTML = '';\n",
       "          dataTable['output_type'] = 'display_data';\n",
       "          await google.colab.output.renderOutput(dataTable, element);\n",
       "          const docLink = document.createElement('div');\n",
       "          docLink.innerHTML = docLinkHtml;\n",
       "          element.appendChild(docLink);\n",
       "        }\n",
       "      </script>\n",
       "    </div>\n",
       "  </div>\n",
       "  "
      ],
      "text/plain": [
       "                ret\n",
       "count  2.588861e+06\n",
       "mean   8.057433e-05\n",
       "std    1.429420e+00\n",
       "min   -9.996924e-01\n",
       "25%   -1.298071e-02\n",
       "50%   -1.003011e-04\n",
       "75%    1.067999e-02\n",
       "max    2.299000e+03"
      ]
     },
     "execution_count": 104,
     "metadata": {},
     "output_type": "execute_result"
    }
   ],
   "source": [
    "df.describe()"
   ]
  },
  {
   "cell_type": "code",
   "execution_count": 107,
   "id": "6aiOd9nsNW7A",
   "metadata": {
    "colab": {
     "base_uri": "https://localhost:8080/"
    },
    "id": "6aiOd9nsNW7A",
    "outputId": "79b61cdc-22ae-4546-dc3f-2cb42b421435"
   },
   "outputs": [
    {
     "name": "stdout",
     "output_type": "stream",
     "text": [
      "Version 1:\n",
      "     ticker  bh_return\n",
      "0      JJSF  -0.001585\n",
      "1       ELA   0.014563\n",
      "2      PLXS   0.002574\n",
      "3      RMCF  -0.012376\n",
      "4      HNGR   0.026403\n",
      "...     ...        ...\n",
      "9427    VPG  -0.054079\n",
      "9428     FN  -0.007418\n",
      "9429   CBOE   0.010218\n",
      "9430   SANW   0.022422\n",
      "9431   TSLA   0.086458\n",
      "\n",
      "[9432 rows x 2 columns]\n",
      "Version 2:\n",
      "     ticker  bh_return\n",
      "0      JJSF  -0.052619\n",
      "1       ELA   0.043062\n",
      "2      PLXS  -0.008191\n",
      "3      RMCF  -0.081454\n",
      "4      HNGR   0.031618\n",
      "...     ...        ...\n",
      "9449    VPG   0.057502\n",
      "9450     FN  -0.039462\n",
      "9451   CBOE  -0.041470\n",
      "9452   SANW  -0.043860\n",
      "9453   TSLA  -0.129016\n",
      "\n",
      "[9454 rows x 2 columns]\n"
     ]
    }
   ],
   "source": [
    "import pandas as pd\n",
    "\n",
    "# # Load the dataset\n",
    "# df = pd.read_stata('crsp_2022_only.dta')\n",
    "\n",
    "# Convert date column to datetime format\n",
    "df['date'] = pd.to_datetime(df['date'], format='%Y-%m-%d')\n",
    "\n",
    "# Define function to compute buy and hold return for a given time span\n",
    "def compute_bh_return(df, start_date, end_date):\n",
    "    # Filter rows for the given time span\n",
    "    mask = (df['date'] >= start_date) & (df['date'] <= end_date)\n",
    "    df_span = df.loc[mask]\n",
    "\n",
    "    # Compute buy and hold return for each ticker\n",
    "    bh_returns = []\n",
    "    for ticker in df_span['ticker'].unique():\n",
    "        ticker_df = df_span[df_span['ticker'] == ticker]\n",
    "        bh_return = (1 + ticker_df['ret']).prod() - 1\n",
    "        bh_returns.append({'ticker': ticker, 'bh_return': bh_return})\n",
    "\n",
    "    # Convert results to a DataFrame\n",
    "    bh_returns_df = pd.DataFrame(bh_returns)\n",
    "\n",
    "    return bh_returns_df\n",
    "\n",
    "# Compute buy and hold return for version 1\n",
    "start_date_v1 = pd.to_datetime('2022-02-28', format='%Y-%m-%d')\n",
    "end_date_v1 = pd.to_datetime('2022-03-02', format='%Y-%m-%d')\n",
    "bh_returns_v1 = compute_bh_return(df, start_date_v1, end_date_v1)\n",
    "\n",
    "# Compute buy and hold return for version 2\n",
    "start_date_v2 = pd.to_datetime('2022-03-03', format='%Y-%m-%d')\n",
    "end_date_v2 = pd.to_datetime('2022-03-14', format='%Y-%m-%d')\n",
    "bh_returns_v2 = compute_bh_return(df, start_date_v2, end_date_v2)\n",
    "\n",
    "# Print results\n",
    "print('Version 1:')\n",
    "print(bh_returns_v1)\n",
    "print('Version 2:')\n",
    "print(bh_returns_v2)\n"
   ]
  },
  {
   "cell_type": "code",
   "execution_count": 121,
   "id": "s1B85md4cvIF",
   "metadata": {
    "colab": {
     "base_uri": "https://localhost:8080/",
     "height": 423
    },
    "id": "s1B85md4cvIF",
    "outputId": "f8f78517-d421-4edf-ebb1-64a84e1ce936"
   },
   "outputs": [
    {
     "data": {
      "text/html": [
       "\n",
       "  <div id=\"df-ac856434-1529-4214-a271-56c4e29b51ed\">\n",
       "    <div class=\"colab-df-container\">\n",
       "      <div>\n",
       "<style scoped>\n",
       "    .dataframe tbody tr th:only-of-type {\n",
       "        vertical-align: middle;\n",
       "    }\n",
       "\n",
       "    .dataframe tbody tr th {\n",
       "        vertical-align: top;\n",
       "    }\n",
       "\n",
       "    .dataframe thead th {\n",
       "        text-align: right;\n",
       "    }\n",
       "</style>\n",
       "<table border=\"1\" class=\"dataframe\">\n",
       "  <thead>\n",
       "    <tr style=\"text-align: right;\">\n",
       "      <th></th>\n",
       "      <th>ticker</th>\n",
       "      <th>bh_return</th>\n",
       "    </tr>\n",
       "  </thead>\n",
       "  <tbody>\n",
       "    <tr>\n",
       "      <th>0</th>\n",
       "      <td>JJSF</td>\n",
       "      <td>-0.001585</td>\n",
       "    </tr>\n",
       "    <tr>\n",
       "      <th>1</th>\n",
       "      <td>ELA</td>\n",
       "      <td>0.014563</td>\n",
       "    </tr>\n",
       "    <tr>\n",
       "      <th>2</th>\n",
       "      <td>PLXS</td>\n",
       "      <td>0.002574</td>\n",
       "    </tr>\n",
       "    <tr>\n",
       "      <th>3</th>\n",
       "      <td>RMCF</td>\n",
       "      <td>-0.012376</td>\n",
       "    </tr>\n",
       "    <tr>\n",
       "      <th>4</th>\n",
       "      <td>HNGR</td>\n",
       "      <td>0.026403</td>\n",
       "    </tr>\n",
       "    <tr>\n",
       "      <th>...</th>\n",
       "      <td>...</td>\n",
       "      <td>...</td>\n",
       "    </tr>\n",
       "    <tr>\n",
       "      <th>9427</th>\n",
       "      <td>VPG</td>\n",
       "      <td>-0.054079</td>\n",
       "    </tr>\n",
       "    <tr>\n",
       "      <th>9428</th>\n",
       "      <td>FN</td>\n",
       "      <td>-0.007418</td>\n",
       "    </tr>\n",
       "    <tr>\n",
       "      <th>9429</th>\n",
       "      <td>CBOE</td>\n",
       "      <td>0.010218</td>\n",
       "    </tr>\n",
       "    <tr>\n",
       "      <th>9430</th>\n",
       "      <td>SANW</td>\n",
       "      <td>0.022422</td>\n",
       "    </tr>\n",
       "    <tr>\n",
       "      <th>9431</th>\n",
       "      <td>TSLA</td>\n",
       "      <td>0.086458</td>\n",
       "    </tr>\n",
       "  </tbody>\n",
       "</table>\n",
       "<p>9432 rows × 2 columns</p>\n",
       "</div>\n",
       "      <button class=\"colab-df-convert\" onclick=\"convertToInteractive('df-ac856434-1529-4214-a271-56c4e29b51ed')\"\n",
       "              title=\"Convert this dataframe to an interactive table.\"\n",
       "              style=\"display:none;\">\n",
       "        \n",
       "  <svg xmlns=\"http://www.w3.org/2000/svg\" height=\"24px\"viewBox=\"0 0 24 24\"\n",
       "       width=\"24px\">\n",
       "    <path d=\"M0 0h24v24H0V0z\" fill=\"none\"/>\n",
       "    <path d=\"M18.56 5.44l.94 2.06.94-2.06 2.06-.94-2.06-.94-.94-2.06-.94 2.06-2.06.94zm-11 1L8.5 8.5l.94-2.06 2.06-.94-2.06-.94L8.5 2.5l-.94 2.06-2.06.94zm10 10l.94 2.06.94-2.06 2.06-.94-2.06-.94-.94-2.06-.94 2.06-2.06.94z\"/><path d=\"M17.41 7.96l-1.37-1.37c-.4-.4-.92-.59-1.43-.59-.52 0-1.04.2-1.43.59L10.3 9.45l-7.72 7.72c-.78.78-.78 2.05 0 2.83L4 21.41c.39.39.9.59 1.41.59.51 0 1.02-.2 1.41-.59l7.78-7.78 2.81-2.81c.8-.78.8-2.07 0-2.86zM5.41 20L4 18.59l7.72-7.72 1.47 1.35L5.41 20z\"/>\n",
       "  </svg>\n",
       "      </button>\n",
       "      \n",
       "  <style>\n",
       "    .colab-df-container {\n",
       "      display:flex;\n",
       "      flex-wrap:wrap;\n",
       "      gap: 12px;\n",
       "    }\n",
       "\n",
       "    .colab-df-convert {\n",
       "      background-color: #E8F0FE;\n",
       "      border: none;\n",
       "      border-radius: 50%;\n",
       "      cursor: pointer;\n",
       "      display: none;\n",
       "      fill: #1967D2;\n",
       "      height: 32px;\n",
       "      padding: 0 0 0 0;\n",
       "      width: 32px;\n",
       "    }\n",
       "\n",
       "    .colab-df-convert:hover {\n",
       "      background-color: #E2EBFA;\n",
       "      box-shadow: 0px 1px 2px rgba(60, 64, 67, 0.3), 0px 1px 3px 1px rgba(60, 64, 67, 0.15);\n",
       "      fill: #174EA6;\n",
       "    }\n",
       "\n",
       "    [theme=dark] .colab-df-convert {\n",
       "      background-color: #3B4455;\n",
       "      fill: #D2E3FC;\n",
       "    }\n",
       "\n",
       "    [theme=dark] .colab-df-convert:hover {\n",
       "      background-color: #434B5C;\n",
       "      box-shadow: 0px 1px 3px 1px rgba(0, 0, 0, 0.15);\n",
       "      filter: drop-shadow(0px 1px 2px rgba(0, 0, 0, 0.3));\n",
       "      fill: #FFFFFF;\n",
       "    }\n",
       "  </style>\n",
       "\n",
       "      <script>\n",
       "        const buttonEl =\n",
       "          document.querySelector('#df-ac856434-1529-4214-a271-56c4e29b51ed button.colab-df-convert');\n",
       "        buttonEl.style.display =\n",
       "          google.colab.kernel.accessAllowed ? 'block' : 'none';\n",
       "\n",
       "        async function convertToInteractive(key) {\n",
       "          const element = document.querySelector('#df-ac856434-1529-4214-a271-56c4e29b51ed');\n",
       "          const dataTable =\n",
       "            await google.colab.kernel.invokeFunction('convertToInteractive',\n",
       "                                                     [key], {});\n",
       "          if (!dataTable) return;\n",
       "\n",
       "          const docLinkHtml = 'Like what you see? Visit the ' +\n",
       "            '<a target=\"_blank\" href=https://colab.research.google.com/notebooks/data_table.ipynb>data table notebook</a>'\n",
       "            + ' to learn more about interactive tables.';\n",
       "          element.innerHTML = '';\n",
       "          dataTable['output_type'] = 'display_data';\n",
       "          await google.colab.output.renderOutput(dataTable, element);\n",
       "          const docLink = document.createElement('div');\n",
       "          docLink.innerHTML = docLinkHtml;\n",
       "          element.appendChild(docLink);\n",
       "        }\n",
       "      </script>\n",
       "    </div>\n",
       "  </div>\n",
       "  "
      ],
      "text/plain": [
       "     ticker  bh_return\n",
       "0      JJSF  -0.001585\n",
       "1       ELA   0.014563\n",
       "2      PLXS   0.002574\n",
       "3      RMCF  -0.012376\n",
       "4      HNGR   0.026403\n",
       "...     ...        ...\n",
       "9427    VPG  -0.054079\n",
       "9428     FN  -0.007418\n",
       "9429   CBOE   0.010218\n",
       "9430   SANW   0.022422\n",
       "9431   TSLA   0.086458\n",
       "\n",
       "[9432 rows x 2 columns]"
      ]
     },
     "execution_count": 121,
     "metadata": {},
     "output_type": "execute_result"
    }
   ],
   "source": [
    "bh_returns_v1"
   ]
  },
  {
   "cell_type": "code",
   "execution_count": 122,
   "id": "TvpAAfBKcw9f",
   "metadata": {
    "colab": {
     "base_uri": "https://localhost:8080/",
     "height": 423
    },
    "id": "TvpAAfBKcw9f",
    "outputId": "2ffc3f9a-9130-4eda-81c9-ffd2bf522046"
   },
   "outputs": [
    {
     "data": {
      "text/html": [
       "\n",
       "  <div id=\"df-11dc0399-138a-488e-a939-437190832b68\">\n",
       "    <div class=\"colab-df-container\">\n",
       "      <div>\n",
       "<style scoped>\n",
       "    .dataframe tbody tr th:only-of-type {\n",
       "        vertical-align: middle;\n",
       "    }\n",
       "\n",
       "    .dataframe tbody tr th {\n",
       "        vertical-align: top;\n",
       "    }\n",
       "\n",
       "    .dataframe thead th {\n",
       "        text-align: right;\n",
       "    }\n",
       "</style>\n",
       "<table border=\"1\" class=\"dataframe\">\n",
       "  <thead>\n",
       "    <tr style=\"text-align: right;\">\n",
       "      <th></th>\n",
       "      <th>ticker</th>\n",
       "      <th>bh_return</th>\n",
       "    </tr>\n",
       "  </thead>\n",
       "  <tbody>\n",
       "    <tr>\n",
       "      <th>0</th>\n",
       "      <td>JJSF</td>\n",
       "      <td>-0.052619</td>\n",
       "    </tr>\n",
       "    <tr>\n",
       "      <th>1</th>\n",
       "      <td>ELA</td>\n",
       "      <td>0.043062</td>\n",
       "    </tr>\n",
       "    <tr>\n",
       "      <th>2</th>\n",
       "      <td>PLXS</td>\n",
       "      <td>-0.008191</td>\n",
       "    </tr>\n",
       "    <tr>\n",
       "      <th>3</th>\n",
       "      <td>RMCF</td>\n",
       "      <td>-0.081454</td>\n",
       "    </tr>\n",
       "    <tr>\n",
       "      <th>4</th>\n",
       "      <td>HNGR</td>\n",
       "      <td>0.031618</td>\n",
       "    </tr>\n",
       "    <tr>\n",
       "      <th>...</th>\n",
       "      <td>...</td>\n",
       "      <td>...</td>\n",
       "    </tr>\n",
       "    <tr>\n",
       "      <th>9449</th>\n",
       "      <td>VPG</td>\n",
       "      <td>0.057502</td>\n",
       "    </tr>\n",
       "    <tr>\n",
       "      <th>9450</th>\n",
       "      <td>FN</td>\n",
       "      <td>-0.039462</td>\n",
       "    </tr>\n",
       "    <tr>\n",
       "      <th>9451</th>\n",
       "      <td>CBOE</td>\n",
       "      <td>-0.041470</td>\n",
       "    </tr>\n",
       "    <tr>\n",
       "      <th>9452</th>\n",
       "      <td>SANW</td>\n",
       "      <td>-0.043860</td>\n",
       "    </tr>\n",
       "    <tr>\n",
       "      <th>9453</th>\n",
       "      <td>TSLA</td>\n",
       "      <td>-0.129016</td>\n",
       "    </tr>\n",
       "  </tbody>\n",
       "</table>\n",
       "<p>9454 rows × 2 columns</p>\n",
       "</div>\n",
       "      <button class=\"colab-df-convert\" onclick=\"convertToInteractive('df-11dc0399-138a-488e-a939-437190832b68')\"\n",
       "              title=\"Convert this dataframe to an interactive table.\"\n",
       "              style=\"display:none;\">\n",
       "        \n",
       "  <svg xmlns=\"http://www.w3.org/2000/svg\" height=\"24px\"viewBox=\"0 0 24 24\"\n",
       "       width=\"24px\">\n",
       "    <path d=\"M0 0h24v24H0V0z\" fill=\"none\"/>\n",
       "    <path d=\"M18.56 5.44l.94 2.06.94-2.06 2.06-.94-2.06-.94-.94-2.06-.94 2.06-2.06.94zm-11 1L8.5 8.5l.94-2.06 2.06-.94-2.06-.94L8.5 2.5l-.94 2.06-2.06.94zm10 10l.94 2.06.94-2.06 2.06-.94-2.06-.94-.94-2.06-.94 2.06-2.06.94z\"/><path d=\"M17.41 7.96l-1.37-1.37c-.4-.4-.92-.59-1.43-.59-.52 0-1.04.2-1.43.59L10.3 9.45l-7.72 7.72c-.78.78-.78 2.05 0 2.83L4 21.41c.39.39.9.59 1.41.59.51 0 1.02-.2 1.41-.59l7.78-7.78 2.81-2.81c.8-.78.8-2.07 0-2.86zM5.41 20L4 18.59l7.72-7.72 1.47 1.35L5.41 20z\"/>\n",
       "  </svg>\n",
       "      </button>\n",
       "      \n",
       "  <style>\n",
       "    .colab-df-container {\n",
       "      display:flex;\n",
       "      flex-wrap:wrap;\n",
       "      gap: 12px;\n",
       "    }\n",
       "\n",
       "    .colab-df-convert {\n",
       "      background-color: #E8F0FE;\n",
       "      border: none;\n",
       "      border-radius: 50%;\n",
       "      cursor: pointer;\n",
       "      display: none;\n",
       "      fill: #1967D2;\n",
       "      height: 32px;\n",
       "      padding: 0 0 0 0;\n",
       "      width: 32px;\n",
       "    }\n",
       "\n",
       "    .colab-df-convert:hover {\n",
       "      background-color: #E2EBFA;\n",
       "      box-shadow: 0px 1px 2px rgba(60, 64, 67, 0.3), 0px 1px 3px 1px rgba(60, 64, 67, 0.15);\n",
       "      fill: #174EA6;\n",
       "    }\n",
       "\n",
       "    [theme=dark] .colab-df-convert {\n",
       "      background-color: #3B4455;\n",
       "      fill: #D2E3FC;\n",
       "    }\n",
       "\n",
       "    [theme=dark] .colab-df-convert:hover {\n",
       "      background-color: #434B5C;\n",
       "      box-shadow: 0px 1px 3px 1px rgba(0, 0, 0, 0.15);\n",
       "      filter: drop-shadow(0px 1px 2px rgba(0, 0, 0, 0.3));\n",
       "      fill: #FFFFFF;\n",
       "    }\n",
       "  </style>\n",
       "\n",
       "      <script>\n",
       "        const buttonEl =\n",
       "          document.querySelector('#df-11dc0399-138a-488e-a939-437190832b68 button.colab-df-convert');\n",
       "        buttonEl.style.display =\n",
       "          google.colab.kernel.accessAllowed ? 'block' : 'none';\n",
       "\n",
       "        async function convertToInteractive(key) {\n",
       "          const element = document.querySelector('#df-11dc0399-138a-488e-a939-437190832b68');\n",
       "          const dataTable =\n",
       "            await google.colab.kernel.invokeFunction('convertToInteractive',\n",
       "                                                     [key], {});\n",
       "          if (!dataTable) return;\n",
       "\n",
       "          const docLinkHtml = 'Like what you see? Visit the ' +\n",
       "            '<a target=\"_blank\" href=https://colab.research.google.com/notebooks/data_table.ipynb>data table notebook</a>'\n",
       "            + ' to learn more about interactive tables.';\n",
       "          element.innerHTML = '';\n",
       "          dataTable['output_type'] = 'display_data';\n",
       "          await google.colab.output.renderOutput(dataTable, element);\n",
       "          const docLink = document.createElement('div');\n",
       "          docLink.innerHTML = docLinkHtml;\n",
       "          element.appendChild(docLink);\n",
       "        }\n",
       "      </script>\n",
       "    </div>\n",
       "  </div>\n",
       "  "
      ],
      "text/plain": [
       "     ticker  bh_return\n",
       "0      JJSF  -0.052619\n",
       "1       ELA   0.043062\n",
       "2      PLXS  -0.008191\n",
       "3      RMCF  -0.081454\n",
       "4      HNGR   0.031618\n",
       "...     ...        ...\n",
       "9449    VPG   0.057502\n",
       "9450     FN  -0.039462\n",
       "9451   CBOE  -0.041470\n",
       "9452   SANW  -0.043860\n",
       "9453   TSLA  -0.129016\n",
       "\n",
       "[9454 rows x 2 columns]"
      ]
     },
     "execution_count": 122,
     "metadata": {},
     "output_type": "execute_result"
    }
   ],
   "source": [
    "bh_returns_v2"
   ]
  },
  {
   "cell_type": "markdown",
   "id": "zZ6j58eWS0nX",
   "metadata": {
    "id": "zZ6j58eWS0nX"
   },
   "source": [
    "#### 10 sentiment variables"
   ]
  },
  {
   "cell_type": "code",
   "execution_count": 130,
   "id": "Nwq28zfSZ7Af",
   "metadata": {
    "colab": {
     "base_uri": "https://localhost:8080/"
    },
    "id": "Nwq28zfSZ7Af",
    "outputId": "74357c2b-f1a5-47e9-e5d9-0611966452f3"
   },
   "outputs": [
    {
     "name": "stdout",
     "output_type": "stream",
     "text": [
      "Processing ALLE\n",
      "Processing ARE\n",
      "Processing ADBE\n",
      "Processing AFL\n",
      "Processing A\n",
      "Processing MMM\n",
      "Processing ALK\n",
      "Processing AKAM\n",
      "Processing AAP\n",
      "Processing ATVI\n",
      "Processing analysis_sample.csv\n",
      "Processing ADP\n",
      "Processing ACN\n",
      "Processing ABT\n",
      "Processing ALGN\n",
      "Processing ALB\n",
      "Processing ABBV\n",
      "Processing ADM\n",
      "Processing APD\n",
      "Processing AES\n",
      "Processing AOS\n"
     ]
    }
   ],
   "source": [
    "# -*- coding: utf-8 -*-\n",
    "import fnmatch\n",
    "import glob\n",
    "import os\n",
    "import re\n",
    "from time import sleep\n",
    "from zipfile import ZipFile\n",
    "\n",
    "import numpy as np\n",
    "import pandas as pd\n",
    "from bs4 import BeautifulSoup\n",
    "from near_regex import NEAR_regex\n",
    "from tqdm import tqdm\n",
    "from requests_html import HTMLSession\n",
    "\n",
    "os.makedirs(\"output\", exist_ok=True)\n",
    "\n",
    "# Load sentiment dictionaries\n",
    "BHR_negative = pd.read_csv('inputs/ML_negative_unigram.txt', names=['word'])['word'].to_list()\n",
    "with open('inputs/ML_positive_unigram.txt', 'r') as file:\n",
    "    BHR_positive = [line.strip() for line in file]\n",
    "\n",
    "LM = pd.read_csv('inputs/LM_MasterDictionary_1993-2021.csv')\n",
    "LM_negative = LM.query('Negative > 0')['Word'].to_list()\n",
    "LM_positive = LM.query('Positive > 0')['Word'].to_list()\n",
    "\n",
    "# Define the topics\n",
    "positive_topics = ['climate', 'sustainability', 'diversity']\n",
    "negative_topics = ['litigation', 'fraud', 'bankruptcy']\n",
    "\n",
    "# Loop over the sample firms\n",
    "with ZipFile('10k_files/10k_files.zip', 'r') as zipfolder:\n",
    "    file_list = zipfolder.namelist()\n",
    "    for firm in os.listdir('/content/sec-edgar-filings'):\n",
    "        print(f'Processing {firm}')\n",
    "        \n",
    "        firm_folder = f\"sec-edgar-filings/{firm}/10-K/*/*.html\"\n",
    "        possible_files = fnmatch.filter(file_list, firm_folder)\n",
    "        if len(possible_files) == 0:\n",
    "            continue\n",
    "            \n",
    "        fpath = possible_files[0]\n",
    "        with zipfolder.open(fpath) as report_file:\n",
    "            html = report_file.read().decode(encoding=\"utf-8\")\n",
    "        \n",
    "        # Clean the html\n",
    "        soup = BeautifulSoup(html, features='lxml-xml')\n",
    "        for div in soup.find_all(\"div\", {'style': 'display:none'}):\n",
    "            div.decompose()\n",
    "        lower = soup.get_text().lower()\n",
    "        no_punc = re.sub(r'\\W', ' ', lower)\n",
    "        cleaned = re.sub(r'\\s+', ' ', no_punc)\n",
    "        \n",
    "        # Get the release date of the 10-K\n",
    "        cik = fpath.split('/')[2]\n",
    "        accession_number = fpath.split('/')[3].split('-')[0]\n",
    "        url = f\"https://www.sec.gov/Archives/edgar/data/{cik}/{accession_number}-index.htm\"\n",
    "        try:\n",
    "            session = HTMLSession()\n",
    "            r = session.get(url)\n",
    "            r.html.render()\n",
    "            filing_date = r.html.find('#formDiv > div:nth-child(2) > div:nth-child(1) > span:nth-child(2)', first=True).text\n",
    "        except:\n",
    "            filing_date = None\n",
    "        \n",
    "        # Measure sentiment\n",
    "        num_words = len(cleaned.split())\n",
    "        num_unique_words = len(set(cleaned.split()))\n",
    "        results = {'LM Positive': 0, 'LM Negative': 0, 'ML Positive': 0, 'ML Negative': 0}\n",
    "        \n",
    "        for word in cleaned.split():\n",
    "            if word in LM_positive:\n",
    "                results['LM Positive'] += 1\n",
    "            elif word in LM_negative:\n",
    "                results['LM Negative'] += 1\n",
    "            elif word in BHR_positive:\n",
    "                results['ML Positive'] += 1\n",
    "            elif word in BHR_negative:\n",
    "                results['ML Negative'] += 1\n",
    "        \n",
    "        for topic in positive_topics:\n",
    "            topic_score = len(re.findall(NEAR_regex([topic]), cleaned)) / num_words\n",
    "            results[f'NEAR {topic}'] = topic_score\n",
    "            results['ticker'] = firm\n",
    "        for topic in negative_topics:\n",
    "            topic_score = len(re.findall(NEAR_regex([topic]), cleaned)) / num_words\n",
    "            results[f'NEAR {topic}'] = topic_score\n",
    "            results['ticker'] = firm\n",
    "    \n",
    "        # Save results to a csv\n",
    "        output_file = f\"output/{firm}_10k_sentiment.csv\"\n",
    "        results['Filing Date'] = filing_date\n",
    "        results['Number of Words'] = num_words\n",
    "        results['Number of Unique Words'] = num_unique_words\n",
    "        pd.DataFrame(results, index=[0]).to_csv(output_file, index=False)\n",
    "    "
   ]
  },
  {
   "cell_type": "code",
   "execution_count": 131,
   "id": "O83SbGtrcBW3",
   "metadata": {
    "id": "O83SbGtrcBW3"
   },
   "outputs": [],
   "source": [
    "# Combine results into a single CSV file\n",
    "csv_files = glob.glob('output/*_10k_sentiment.csv')\n",
    "dfs = []\n",
    "for file in csv_files:\n",
    "    df = pd.read_csv(file)\n",
    "    dfs.append(df)\n",
    "combined_df = pd.concat(dfs, axis=0, ignore_index=True)\n"
   ]
  },
  {
   "cell_type": "code",
   "execution_count": 132,
   "id": "yZT6WwWTd91I",
   "metadata": {
    "colab": {
     "base_uri": "https://localhost:8080/",
     "height": 322
    },
    "id": "yZT6WwWTd91I",
    "outputId": "18a6d23b-b44f-4564-b25a-95159461f0c5"
   },
   "outputs": [
    {
     "data": {
      "text/html": [
       "\n",
       "  <div id=\"df-aa67f645-d5e0-4048-a4c4-d7e9c0494268\">\n",
       "    <div class=\"colab-df-container\">\n",
       "      <div>\n",
       "<style scoped>\n",
       "    .dataframe tbody tr th:only-of-type {\n",
       "        vertical-align: middle;\n",
       "    }\n",
       "\n",
       "    .dataframe tbody tr th {\n",
       "        vertical-align: top;\n",
       "    }\n",
       "\n",
       "    .dataframe thead th {\n",
       "        text-align: right;\n",
       "    }\n",
       "</style>\n",
       "<table border=\"1\" class=\"dataframe\">\n",
       "  <thead>\n",
       "    <tr style=\"text-align: right;\">\n",
       "      <th></th>\n",
       "      <th>LM Positive</th>\n",
       "      <th>LM Negative</th>\n",
       "      <th>ML Positive</th>\n",
       "      <th>ML Negative</th>\n",
       "      <th>NEAR climate</th>\n",
       "      <th>ticker</th>\n",
       "      <th>NEAR sustainability</th>\n",
       "      <th>NEAR diversity</th>\n",
       "      <th>NEAR litigation</th>\n",
       "      <th>NEAR fraud</th>\n",
       "      <th>NEAR bankruptcy</th>\n",
       "      <th>Filing Date</th>\n",
       "      <th>Number of Words</th>\n",
       "      <th>Number of Unique Words</th>\n",
       "    </tr>\n",
       "  </thead>\n",
       "  <tbody>\n",
       "    <tr>\n",
       "      <th>0</th>\n",
       "      <td>0</td>\n",
       "      <td>0</td>\n",
       "      <td>1530</td>\n",
       "      <td>1398</td>\n",
       "      <td>0.000107</td>\n",
       "      <td>ADBE</td>\n",
       "      <td>0.000018</td>\n",
       "      <td>0.000196</td>\n",
       "      <td>0.000391</td>\n",
       "      <td>0.000089</td>\n",
       "      <td>0.00000</td>\n",
       "      <td>NaN</td>\n",
       "      <td>56245</td>\n",
       "      <td>5484</td>\n",
       "    </tr>\n",
       "    <tr>\n",
       "      <th>1</th>\n",
       "      <td>0</td>\n",
       "      <td>0</td>\n",
       "      <td>1532</td>\n",
       "      <td>1622</td>\n",
       "      <td>0.000072</td>\n",
       "      <td>AKAM</td>\n",
       "      <td>0.000000</td>\n",
       "      <td>0.000090</td>\n",
       "      <td>0.000324</td>\n",
       "      <td>0.000054</td>\n",
       "      <td>0.00000</td>\n",
       "      <td>NaN</td>\n",
       "      <td>55603</td>\n",
       "      <td>5154</td>\n",
       "    </tr>\n",
       "    <tr>\n",
       "      <th>2</th>\n",
       "      <td>0</td>\n",
       "      <td>0</td>\n",
       "      <td>1124</td>\n",
       "      <td>1270</td>\n",
       "      <td>0.000019</td>\n",
       "      <td>ABT</td>\n",
       "      <td>0.000019</td>\n",
       "      <td>0.000115</td>\n",
       "      <td>0.000442</td>\n",
       "      <td>0.000077</td>\n",
       "      <td>0.00000</td>\n",
       "      <td>NaN</td>\n",
       "      <td>52061</td>\n",
       "      <td>5045</td>\n",
       "    </tr>\n",
       "    <tr>\n",
       "      <th>3</th>\n",
       "      <td>0</td>\n",
       "      <td>0</td>\n",
       "      <td>1887</td>\n",
       "      <td>2052</td>\n",
       "      <td>0.000109</td>\n",
       "      <td>APD</td>\n",
       "      <td>0.000249</td>\n",
       "      <td>0.000062</td>\n",
       "      <td>0.000218</td>\n",
       "      <td>0.000062</td>\n",
       "      <td>0.00000</td>\n",
       "      <td>NaN</td>\n",
       "      <td>64212</td>\n",
       "      <td>5255</td>\n",
       "    </tr>\n",
       "    <tr>\n",
       "      <th>4</th>\n",
       "      <td>0</td>\n",
       "      <td>0</td>\n",
       "      <td>1528</td>\n",
       "      <td>1859</td>\n",
       "      <td>0.000089</td>\n",
       "      <td>ATVI</td>\n",
       "      <td>0.000015</td>\n",
       "      <td>0.000149</td>\n",
       "      <td>0.000238</td>\n",
       "      <td>0.000045</td>\n",
       "      <td>0.00003</td>\n",
       "      <td>NaN</td>\n",
       "      <td>67164</td>\n",
       "      <td>5193</td>\n",
       "    </tr>\n",
       "  </tbody>\n",
       "</table>\n",
       "</div>\n",
       "      <button class=\"colab-df-convert\" onclick=\"convertToInteractive('df-aa67f645-d5e0-4048-a4c4-d7e9c0494268')\"\n",
       "              title=\"Convert this dataframe to an interactive table.\"\n",
       "              style=\"display:none;\">\n",
       "        \n",
       "  <svg xmlns=\"http://www.w3.org/2000/svg\" height=\"24px\"viewBox=\"0 0 24 24\"\n",
       "       width=\"24px\">\n",
       "    <path d=\"M0 0h24v24H0V0z\" fill=\"none\"/>\n",
       "    <path d=\"M18.56 5.44l.94 2.06.94-2.06 2.06-.94-2.06-.94-.94-2.06-.94 2.06-2.06.94zm-11 1L8.5 8.5l.94-2.06 2.06-.94-2.06-.94L8.5 2.5l-.94 2.06-2.06.94zm10 10l.94 2.06.94-2.06 2.06-.94-2.06-.94-.94-2.06-.94 2.06-2.06.94z\"/><path d=\"M17.41 7.96l-1.37-1.37c-.4-.4-.92-.59-1.43-.59-.52 0-1.04.2-1.43.59L10.3 9.45l-7.72 7.72c-.78.78-.78 2.05 0 2.83L4 21.41c.39.39.9.59 1.41.59.51 0 1.02-.2 1.41-.59l7.78-7.78 2.81-2.81c.8-.78.8-2.07 0-2.86zM5.41 20L4 18.59l7.72-7.72 1.47 1.35L5.41 20z\"/>\n",
       "  </svg>\n",
       "      </button>\n",
       "      \n",
       "  <style>\n",
       "    .colab-df-container {\n",
       "      display:flex;\n",
       "      flex-wrap:wrap;\n",
       "      gap: 12px;\n",
       "    }\n",
       "\n",
       "    .colab-df-convert {\n",
       "      background-color: #E8F0FE;\n",
       "      border: none;\n",
       "      border-radius: 50%;\n",
       "      cursor: pointer;\n",
       "      display: none;\n",
       "      fill: #1967D2;\n",
       "      height: 32px;\n",
       "      padding: 0 0 0 0;\n",
       "      width: 32px;\n",
       "    }\n",
       "\n",
       "    .colab-df-convert:hover {\n",
       "      background-color: #E2EBFA;\n",
       "      box-shadow: 0px 1px 2px rgba(60, 64, 67, 0.3), 0px 1px 3px 1px rgba(60, 64, 67, 0.15);\n",
       "      fill: #174EA6;\n",
       "    }\n",
       "\n",
       "    [theme=dark] .colab-df-convert {\n",
       "      background-color: #3B4455;\n",
       "      fill: #D2E3FC;\n",
       "    }\n",
       "\n",
       "    [theme=dark] .colab-df-convert:hover {\n",
       "      background-color: #434B5C;\n",
       "      box-shadow: 0px 1px 3px 1px rgba(0, 0, 0, 0.15);\n",
       "      filter: drop-shadow(0px 1px 2px rgba(0, 0, 0, 0.3));\n",
       "      fill: #FFFFFF;\n",
       "    }\n",
       "  </style>\n",
       "\n",
       "      <script>\n",
       "        const buttonEl =\n",
       "          document.querySelector('#df-aa67f645-d5e0-4048-a4c4-d7e9c0494268 button.colab-df-convert');\n",
       "        buttonEl.style.display =\n",
       "          google.colab.kernel.accessAllowed ? 'block' : 'none';\n",
       "\n",
       "        async function convertToInteractive(key) {\n",
       "          const element = document.querySelector('#df-aa67f645-d5e0-4048-a4c4-d7e9c0494268');\n",
       "          const dataTable =\n",
       "            await google.colab.kernel.invokeFunction('convertToInteractive',\n",
       "                                                     [key], {});\n",
       "          if (!dataTable) return;\n",
       "\n",
       "          const docLinkHtml = 'Like what you see? Visit the ' +\n",
       "            '<a target=\"_blank\" href=https://colab.research.google.com/notebooks/data_table.ipynb>data table notebook</a>'\n",
       "            + ' to learn more about interactive tables.';\n",
       "          element.innerHTML = '';\n",
       "          dataTable['output_type'] = 'display_data';\n",
       "          await google.colab.output.renderOutput(dataTable, element);\n",
       "          const docLink = document.createElement('div');\n",
       "          docLink.innerHTML = docLinkHtml;\n",
       "          element.appendChild(docLink);\n",
       "        }\n",
       "      </script>\n",
       "    </div>\n",
       "  </div>\n",
       "  "
      ],
      "text/plain": [
       "   LM Positive  LM Negative  ML Positive  ML Negative  NEAR climate ticker  \\\n",
       "0            0            0         1530         1398      0.000107   ADBE   \n",
       "1            0            0         1532         1622      0.000072   AKAM   \n",
       "2            0            0         1124         1270      0.000019    ABT   \n",
       "3            0            0         1887         2052      0.000109    APD   \n",
       "4            0            0         1528         1859      0.000089   ATVI   \n",
       "\n",
       "   NEAR sustainability  NEAR diversity  NEAR litigation  NEAR fraud  \\\n",
       "0             0.000018        0.000196         0.000391    0.000089   \n",
       "1             0.000000        0.000090         0.000324    0.000054   \n",
       "2             0.000019        0.000115         0.000442    0.000077   \n",
       "3             0.000249        0.000062         0.000218    0.000062   \n",
       "4             0.000015        0.000149         0.000238    0.000045   \n",
       "\n",
       "   NEAR bankruptcy  Filing Date  Number of Words  Number of Unique Words  \n",
       "0          0.00000          NaN            56245                    5484  \n",
       "1          0.00000          NaN            55603                    5154  \n",
       "2          0.00000          NaN            52061                    5045  \n",
       "3          0.00000          NaN            64212                    5255  \n",
       "4          0.00003          NaN            67164                    5193  "
      ]
     },
     "execution_count": 132,
     "metadata": {},
     "output_type": "execute_result"
    }
   ],
   "source": [
    "combined_df.head()"
   ]
  },
  {
   "cell_type": "code",
   "execution_count": 139,
   "id": "rrN7sBnLhv3i",
   "metadata": {
    "colab": {
     "base_uri": "https://localhost:8080/"
    },
    "id": "rrN7sBnLhv3i",
    "outputId": "d8f2bc42-489a-4283-8b62-eae7210b13ab"
   },
   "outputs": [
    {
     "data": {
      "text/plain": [
       "Index(['LM Positive', 'LM Negative', 'ML Positive', 'ML Negative',\n",
       "       'NEAR climate', 'ticker', 'NEAR sustainability', 'NEAR diversity',\n",
       "       'NEAR litigation', 'NEAR fraud', 'NEAR bankruptcy', 'Filing Date',\n",
       "       'Number of Words', 'Number of Unique Words'],\n",
       "      dtype='object')"
      ]
     },
     "execution_count": 139,
     "metadata": {},
     "output_type": "execute_result"
    }
   ],
   "source": [
    "combined_df.columns"
   ]
  },
  {
   "cell_type": "code",
   "execution_count": 133,
   "id": "vdj55A8cd-6Y",
   "metadata": {
    "id": "vdj55A8cd-6Y"
   },
   "outputs": [],
   "source": [
    "combined_df.to_csv('analysis_sample.csv', index=False)\n",
    "combined_df.to_csv('/content/output/analysis_sample.csv', index=False)"
   ]
  },
  {
   "cell_type": "code",
   "execution_count": 5,
   "id": "CZHWMHXji2kG",
   "metadata": {
    "colab": {
     "base_uri": "https://localhost:8080/",
     "height": 1000
    },
    "id": "CZHWMHXji2kG",
    "outputId": "e6d54e59-478b-4d01-e3bb-4d8525ab1d50"
   },
   "outputs": [
    {
     "data": {
      "image/png": "[encoded data removed]",
      "text/plain": [
       "<Figure size 720x720 with 20 Axes>"
      ]
     },
     "metadata": {
      "needs_background": "light"
     },
     "output_type": "display_data"
    }
   ],
   "source": [
    "import seaborn as sns\n",
    "import matplotlib.pyplot as plt\n",
    "\n",
    "# Load sentiment data\n",
    "sentiment_data = pd.read_csv('output/analysis_sample.csv')\n",
    "\n",
    "# Create scatterplot matrix\n",
    "sns.pairplot(sentiment_data, vars=['LM Positive', 'LM Negative', 'ML Positive', 'ML Negative'])\n",
    "\n",
    "# Add correlation coefficients to scatterplot\n",
    "corrs = sentiment_data[['LM Positive', 'LM Negative', 'ML Positive', 'ML Negative']].corr()\n",
    "corrs = corrs.round(2)\n",
    "for i in range(len(corrs)):\n",
    "    for j in range(len(corrs)):\n",
    "        if i != j:\n",
    "            x = 0.15 + i*0.4\n",
    "            y = 0.85 - j*0.4\n",
    "            text = f\"r = {corrs.iloc[i, j]}\"\n",
    "            plt.text(x, y, text, fontsize=12, transform=plt.gcf().transFigure)\n",
    "            \n",
    "# Add regression lines to scatterplot\n",
    "sns.regplot(x='LM Positive', y='LM Negative', data=sentiment_data)\n",
    "sns.regplot(x='LM Positive', y='ML Positive', data=sentiment_data)\n",
    "sns.regplot(x='LM Positive', y='ML Negative', data=sentiment_data)\n",
    "sns.regplot(x='LM Negative', y='ML Positive', data=sentiment_data)\n",
    "sns.regplot(x='LM Negative', y='ML Negative', data=sentiment_data)\n",
    "sns.regplot(x='ML Positive', y='ML Negative', data=sentiment_data)\n",
    "\n",
    "# Show the plot\n",
    "plt.show()\n"
   ]
  }
 ],
 "metadata": {
  "colab": {
   "provenance": []
  },
  "kernelspec": {
   "display_name": "Python 3 (ipykernel)",
   "language": "python",
   "name": "python3"
  },
  "language_info": {
   "codemirror_mode": {
    "name": "ipython",
    "version": 3
   },
   "file_extension": ".py",
   "mimetype": "text/x-python",
   "name": "python",
   "nbconvert_exporter": "python",
   "pygments_lexer": "ipython3",
   "version": "3.9.12"
  }
 },
 "nbformat": 4,
 "nbformat_minor": 5
}
