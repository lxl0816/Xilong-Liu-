{
 "cells": [
  {
   "cell_type": "code",
   "execution_count": 4,
   "metadata": {
    "id": "mb6a54_tNnhD"
   },
   "outputs": [],
   "source": [
    "!pip install sec_edgar_downloader"
   ]
  },
  {
   "cell_type": "code",
   "execution_count": 5,
   "metadata": {
    "id": "9LVpEXNmMPoJ"
   },
   "outputs": [],
   "source": [
    "import os\n",
    "\n",
    "import pandas as pd\n",
    "import requests\n",
    "from sec_edgar_downloader import Downloader\n",
    "\n",
    "# Create input and 10k_files subfolders\n",
    "if not os.path.exists('inputs'):\n",
    "    os.makedirs('inputs')"
   ]
  },
  {
   "cell_type": "code",
   "execution_count": 6,
   "metadata": {
    "id": "LVDBPA5nMPoL"
   },
   "outputs": [],
   "source": [
    "# Check if S&P500 list already exists\n",
    "if os.path.exists('inputs/sp500_list.csv'):\n",
    "    sp500 = pd.read_csv('inputs/sp500_list.csv')\n",
    "    tickers = sp500['Symbol'].tolist()\n",
    "else:\n",
    "    # Download S&P500 list from Wikipedia page\n",
    "    url = 'https://en.wikipedia.org/wiki/List_of_S%26P_500_companies'\n",
    "    response = requests.get(url)\n",
    "    df = pd.read_html(response.content, header=0)[0]\n",
    "    df.to_csv('inputs/sp500_list.csv', index=False)\n",
    "    tickers = df['Symbol'].tolist()"
   ]
  },
  {
   "cell_type": "code",
   "execution_count": 7,
   "metadata": {
    "colab": {
     "base_uri": "https://localhost:8080/"
    },
    "id": "qIrwdfDdMPoL",
    "outputId": "c092a512-8205-4f2c-dd2a-ef5a6de1e16d"
   },
   "outputs": [
    {
     "name": "stderr",
     "output_type": "stream",
     "text": [
      "100%|██████████| 503/503 [00:00<00:00, 2650.71it/s]\n"
     ]
    }
   ],
   "source": [
    "import os\n",
    "import shutil\n",
    "import tqdm\n",
    "import concurrent.futures\n",
    "import re\n",
    "\n",
    "\n",
    "# Download the last 10-K filed during 2022 for each firm, if not already downloaded\n",
    "def download_10k(ticker):\n",
    "    # Set up the downloader\n",
    "    dl = Downloader()\n",
    "    # Check if the 10-K for 2022 is already downloaded for this ticker\n",
    "    pattern = re.compile(rf\"10k_files/{ticker}/10-K/\\d{{10}}-\\d{{2}}-\\d{{6}}/full-submission.txt\")\n",
    "    if not any(pattern.match(filename) for filename in os.listdir(\"10k_files\")):\n",
    "        # Download the 10-K for 2022 for this ticker\n",
    "        dl.get(\"10-K\", ticker, after=\"2022-01-01\", before=\"2023-01-01\", amount=1)\n",
    "\n",
    "\n",
    "# Set up a progress bar\n",
    "pbar = tqdm.tqdm(total=len(tickers))\n",
    "\n",
    "# Download the 10-Ks for each ticker in parallel\n",
    "with concurrent.futures.ThreadPoolExecutor() as executor:\n",
    "    futures = []\n",
    "    for ticker in tickers:\n",
    "        futures.append(executor.submit(download_10k, ticker))\n",
    "    for future in concurrent.futures.as_completed(futures):\n",
    "        pbar.update(1)\n",
    "\n",
    "# Close the progress bar\n",
    "pbar.close()\n",
    "\n",
    "# Rename the folder sec-edgar-filings to 10k_files\n",
    "if os.path.exists(\"sec-edgar-filings\"):\n",
    "    shutil.move(\"sec-edgar-filings\", \"10k_files\")"
   ]
  },
  {
   "cell_type": "code",
   "execution_count": 1,
   "metadata": {
    "id": "w7gOd5MzXBwS"
   },
   "outputs": [
    {
     "name": "stdout",
     "output_type": "stream",
     "text": [
      "unzip:  cannot find or open /content/10k_files.zip, /content/10k_files.zip.zip or /content/10k_files.zip.ZIP.\n"
     ]
    },
    {
     "ename": "NameError",
     "evalue": "name 'os' is not defined",
     "output_type": "error",
     "traceback": [
      "\u001b[0;31m---------------------------------------------------------------------------\u001b[0m",
      "\u001b[0;31mNameError\u001b[0m                                 Traceback (most recent call last)",
      "\u001b[0;32m/var/folders/_5/p9_xy2g56yb6p1fskr2c8nlr0000gn/T/ipykernel_77394/3008301445.py\u001b[0m in \u001b[0;36m<module>\u001b[0;34m\u001b[0m\n\u001b[1;32m      1\u001b[0m \u001b[0mget_ipython\u001b[0m\u001b[0;34m(\u001b[0m\u001b[0;34m)\u001b[0m\u001b[0;34m.\u001b[0m\u001b[0msystem\u001b[0m\u001b[0;34m(\u001b[0m\u001b[0;34m'unzip /content/10k_files.zip'\u001b[0m\u001b[0;34m)\u001b[0m\u001b[0;34m\u001b[0m\u001b[0;34m\u001b[0m\u001b[0m\n\u001b[1;32m      2\u001b[0m \u001b[0;31m# Rename the folder sec-edgar-filings to 10k_files\u001b[0m\u001b[0;34m\u001b[0m\u001b[0;34m\u001b[0m\u001b[0m\n\u001b[0;32m----> 3\u001b[0;31m \u001b[0;32mif\u001b[0m \u001b[0mos\u001b[0m\u001b[0;34m.\u001b[0m\u001b[0mpath\u001b[0m\u001b[0;34m.\u001b[0m\u001b[0mexists\u001b[0m\u001b[0;34m(\u001b[0m\u001b[0;34m\"sec-edgar-filings\"\u001b[0m\u001b[0;34m)\u001b[0m\u001b[0;34m:\u001b[0m\u001b[0;34m\u001b[0m\u001b[0;34m\u001b[0m\u001b[0m\n\u001b[0m\u001b[1;32m      4\u001b[0m     \u001b[0mshutil\u001b[0m\u001b[0;34m.\u001b[0m\u001b[0mmove\u001b[0m\u001b[0;34m(\u001b[0m\u001b[0;34m\"sec-edgar-filings\"\u001b[0m\u001b[0;34m,\u001b[0m \u001b[0;34m\"10k_files\"\u001b[0m\u001b[0;34m)\u001b[0m\u001b[0;34m\u001b[0m\u001b[0;34m\u001b[0m\u001b[0m\n",
      "\u001b[0;31mNameError\u001b[0m: name 'os' is not defined"
     ]
    }
   ],
   "source": [
    "!unzip /content/10k_files.zip\n",
    "# Rename the folder sec-edgar-filings to 10k_files\n",
    "if os.path.exists(\"sec-edgar-filings\"):\n",
    "    shutil.move(\"sec-edgar-filings\", \"10k_files\")"
   ]
  },
  {
   "cell_type": "code",
   "execution_count": null,
   "metadata": {},
   "outputs": [],
   "source": []
  }
 ],
 "metadata": {
  "colab": {
   "provenance": []
  },
  "kernelspec": {
   "display_name": "Python 3 (ipykernel)",
   "language": "python",
   "name": "python3"
  },
  "language_info": {
   "codemirror_mode": {
    "name": "ipython",
    "version": 3
   },
   "file_extension": ".py",
   "mimetype": "text/x-python",
   "name": "python",
   "nbconvert_exporter": "python",
   "pygments_lexer": "ipython3",
   "version": "3.9.12"
  }
 },
 "nbformat": 4,
 "nbformat_minor": 4
}
